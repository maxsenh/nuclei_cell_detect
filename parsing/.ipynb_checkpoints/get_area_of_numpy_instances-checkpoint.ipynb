{
 "cells": [
  {
   "cell_type": "markdown",
   "metadata": {},
   "source": [
    "# Get average size of predicted instances"
   ]
  },
  {
   "cell_type": "code",
   "execution_count": 1,
   "metadata": {},
   "outputs": [],
   "source": [
    "import numpy as np\n",
    "import os\n",
    "import matplotlib.pyplot as plt\n",
    "import matplotlib.pylab as pylab\n",
    "# this can be modified for better representation\n",
    "pylab.rcParams['figure.figsize'] = 10,7"
   ]
  },
  {
   "cell_type": "code",
   "execution_count": 3,
   "metadata": {},
   "outputs": [],
   "source": [
    "ROOT = '/home/maxsen/DEEPL/data/training_data/test/'\n",
    "#ROOT = '/data/proj/smFISH/Students/Max_Senftleben/files/data/20190422_AMEX_transfer_nuclei/npy/'\n",
    "\n",
    "# path to images\n",
    "list_of_images = [ROOT + i for i in os.listdir(ROOT)]\n",
    "#size_of_pixel = 0.11*ureg.micrometer * 0.11*ureg.micrometer\n",
    "size_of_pixel = 0.11 * 0.11"
   ]
  },
  {
   "cell_type": "code",
   "execution_count": 4,
   "metadata": {},
   "outputs": [],
   "source": [
    "def get_pixel_area(numpy_array, size_of_pixel):\n",
    "    height, width, dim = numpy_array.shape\n",
    "    dsplits = np.dsplit(numpy_array, dim)\n",
    "    \n",
    "    '''\n",
    "    # used to show the masks\n",
    "    plt.imshow(np.dstack((dsplits[0], dsplits[0], dsplits[0])))\n",
    "    plt.show()\n",
    "    for i in dsplits:\n",
    "        plt.imshow(np.dstack((i*100, i*100, i*100)))\n",
    "        plt.show()\n",
    "    '''\n",
    "    dsplits = dsplits[1:]\n",
    "    db = {1:[], 2:[], 3:[]}\n",
    "    \n",
    "    counts = [np.unique(one_array, return_counts=True) for one_array in dsplits]\n",
    "    counts = [list(i) for i in counts]\n",
    "    for i in counts:\n",
    "        index = i[0][1]\n",
    "        count = i[1][1] * size_of_pixel\n",
    "        db[index].append(count)\n",
    "        \n",
    "    return db"
   ]
  },
  {
   "cell_type": "code",
   "execution_count": 17,
   "metadata": {},
   "outputs": [],
   "source": [
    "def plot_nuclei_size(list_of_sizes, num_bins, save_path):\n",
    "\n",
    "    \n",
    "    \n",
    "\n",
    "    import matplotlib.mlab as mlab\n",
    "    \n",
    "    fig, ax = plt.subplots()\n",
    "    \n",
    "    mu = np.mean(list_of_sizes)  # mean of distribution\n",
    "    sigma = np.std(list_of_sizes)  # standard deviation of distribution\n",
    "    print('Mean size: ', mu)\n",
    "    print(sum(list_of_sizes)/len(list_of_sizes))\n",
    "\n",
    "    n, bins, patches = ax.hist(x=list_of_sizes, bins='auto', color='#0504aa',\n",
    "                            alpha=0.7, rwidth=0.9)\n",
    "    print(len(bins))\n",
    "    y = ((1 / (np.sqrt(2 * np.pi) * sigma)) * np.exp(-0.5 * (1 / sigma * (bins - mu))**2))\n",
    "    y = mlab.normpdf(bins, mu, sigma) * sum(n * np.diff(bins))\n",
    "    \n",
    "    ax.plot(bins, y, '--', color = 'r')\n",
    "    ax.set_xlabel('Size in \\u03BCm\\u00b2')\n",
    "    ax.set_ylabel('Frequency')\n",
    "    #{}cm\\u00b2\".format(area)\n",
    "    ax.text(250,400, \"Mean = 138.86 \\u03BCm\\u00b2\")\n",
    "    ax.grid(axis='y', alpha=0.75)\n",
    "    # Tweak spacing to prevent clipping of ylabel\n",
    "    fig.tight_layout()\n",
    "    plt.xlim(0,400)\n",
    "    maxfreq = np.max(n)\n",
    "    plt.ylim(0, 800)\n",
    "    plt.savefig(save_path, dpi=100)\n",
    "    \n",
    "    plt.show()\n",
    "    "
   ]
  },
  {
   "cell_type": "code",
   "execution_count": null,
   "metadata": {},
   "outputs": [],
   "source": []
  },
  {
   "cell_type": "code",
   "execution_count": 18,
   "metadata": {},
   "outputs": [],
   "source": [
    "def iterate_through_images(folder, size_of_pixel):\n",
    "    all_nuclei_sizes = []\n",
    "    for img in list_of_images:\n",
    "        numpy_array = np.load(img)\n",
    "        counts = get_pixel_area(numpy_array, size_of_pixel)\n",
    "        #print(img)\n",
    "        if 1 in counts:\n",
    "            [all_nuclei_sizes.append(i) for i in counts[1]]\n",
    "\n",
    "    return all_nuclei_sizes"
   ]
  },
  {
   "cell_type": "code",
   "execution_count": 20,
   "metadata": {},
   "outputs": [],
   "source": [
    "\n",
    "all_sizes = iterate_through_images(list_of_images, size_of_pixel)\n"
   ]
  },
  {
   "cell_type": "code",
   "execution_count": 21,
   "metadata": {},
   "outputs": [
    {
     "name": "stdout",
     "output_type": "stream",
     "text": [
      "4\n",
      "0.25\n",
      "Mean size:  87.32872499999999\n",
      "87.32872499999999\n",
      "4\n"
     ]
    },
    {
     "name": "stderr",
     "output_type": "stream",
     "text": [
      "/home/maxsen/.local/lib/python3.6/site-packages/ipykernel_launcher.py:19: MatplotlibDeprecationWarning: scipy.stats.norm.pdf\n"
     ]
    },
    {
     "data": {
      "image/png": "[encoded data removed]",
      "text/plain": [
       "<Figure size 432x288 with 1 Axes>"
      ]
     },
     "metadata": {
      "needs_background": "light"
     },
     "output_type": "display_data"
    }
   ],
   "source": [
    "print(len(all_sizes))\n",
    "between_110_170 = [i for i in all_sizes if i>99 and i<181]\n",
    "print(len(between_110_170)/len(all_sizes))\n",
    "\n",
    "# save path for histogram\n",
    "save_path = '/home/maxsen/DEEPL/test_histo.png'\n",
    "\n",
    "# I hardcoded the metrix\n",
    "plot_nuclei_size(all_sizes, len(all_sizes), save_path)"
   ]
  },
  {
   "cell_type": "code",
   "execution_count": null,
   "metadata": {},
   "outputs": [],
   "source": []
  },
  {
   "cell_type": "code",
   "execution_count": null,
   "metadata": {},
   "outputs": [],
   "source": []
  }
 ],
 "metadata": {
  "kernelspec": {
   "display_name": "deep_learning",
   "language": "python",
   "name": "mrcnn_b"
  },
  "language_info": {
   "codemirror_mode": {
    "name": "ipython",
    "version": 3
   },
   "file_extension": ".py",
   "mimetype": "text/x-python",
   "name": "python",
   "nbconvert_exporter": "python",
   "pygments_lexer": "ipython3",
   "version": "3.6.8"
  }
 },
 "nbformat": 4,
 "nbformat_minor": 2
}
