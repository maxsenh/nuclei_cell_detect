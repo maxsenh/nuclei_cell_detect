{
 "cells": [
  {
   "cell_type": "code",
   "execution_count": 21,
   "metadata": {},
   "outputs": [],
   "source": [
    "from maskrcnn_benchmark.config import cfg\n",
    "from maskrcnn_benchmark.utils.c2_model_loading import load_c2_format\n",
    "from maskrcnn_benchmark.modeling.detector import build_detection_model\n",
    "import torch"
   ]
  },
  {
   "cell_type": "code",
   "execution_count": 30,
   "metadata": {},
   "outputs": [
    {
     "name": "stdout",
     "output_type": "stream",
     "text": [
      "keys: dict_keys(['model', 'optimizer', 'scheduler', 'iteration'])\n",
      "keys: dict_keys(['model', 'scheduler', 'iteration'])\n"
     ]
    }
   ],
   "source": [
    "config = '/home/max/github/nuclei_cell_detect/configs/nuclei_1gpu_transfer.yaml'\n",
    "\n",
    "\n",
    "cfg.merge_from_file(config)\n",
    "cfg.freeze()\n",
    "output_dir = \"/data/proj/smFISH/Students/Max_Senftleben/files/models/20190310_offline_augment/model_final.pth\"\n",
    "model_weight = output_dir\n",
    "\n",
    "checkpoint = torch.load(model_weight, map_location = 'cpu')\n",
    "print('keys: {}'.format(checkpoint.keys()))\n",
    "new_model = checkpoint\n",
    "new_model.pop('optimizer')\n",
    "#new_model.pop('scheduler')\n",
    "\n",
    "new_save_path = str(cfg.MODEL.WEIGHT)[:-4] + '_trimmed.pth'\n",
    "torch.save(new_model, new_save_path)\n",
    "checkpoint = torch.load(new_save_path, map_location = 'cpu')\n",
    "print('keys: {}'.format(checkpoint.keys()))"
   ]
  },
  {
   "cell_type": "code",
   "execution_count": 13,
   "metadata": {},
   "outputs": [],
   "source": []
  },
  {
   "cell_type": "code",
   "execution_count": null,
   "metadata": {},
   "outputs": [],
   "source": []
  }
 ],
 "metadata": {
  "kernelspec": {
   "display_name": "pytorch_maskrcnn",
   "language": "python",
   "name": "pt_mask_rcnn_env"
  },
  "language_info": {
   "codemirror_mode": {
    "name": "ipython",
    "version": 3
   },
   "file_extension": ".py",
   "mimetype": "text/x-python",
   "name": "python",
   "nbconvert_exporter": "python",
   "pygments_lexer": "ipython3",
   "version": "3.6.8"
  }
 },
 "nbformat": 4,
 "nbformat_minor": 2
}
