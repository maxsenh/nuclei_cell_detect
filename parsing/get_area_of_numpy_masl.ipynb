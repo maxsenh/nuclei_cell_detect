{
 "cells": [
  {
   "cell_type": "code",
   "execution_count": 2,
   "metadata": {},
   "outputs": [],
   "source": [
    "import numpy as np\n",
    "import os\n",
    "#import pint\n",
    "import matplotlib.pyplot as plt\n",
    "import matplotlib.pylab as pylab\n",
    "pylab.rcParams['figure.figsize'] = 10,7\n",
    "\n",
    "\n",
    "#ureg = pint.UnitRegistry()"
   ]
  },
  {
   "cell_type": "code",
   "execution_count": 3,
   "metadata": {},
   "outputs": [],
   "source": [
    "ROOT = '/home/maxsen/DEEPL/data/training_data/test/'\n",
    "ROOT = '/data/proj/smFISH/Students/Max_Senftleben/files/data/20190422_AMEX_transfer_nuclei/npy/'\n",
    "list_of_images = [ROOT + i for i in os.listdir(ROOT)]\n",
    "#size_of_pixel = 0.11*ureg.micrometer * 0.11*ureg.micrometer\n",
    "size_of_pixel = 0.11 * 0.11"
   ]
  },
  {
   "cell_type": "code",
   "execution_count": 4,
   "metadata": {},
   "outputs": [],
   "source": [
    "def get_pixel_area(numpy_array, size_of_pixel):\n",
    "    height, width, dim = numpy_array.shape\n",
    "    dsplits = np.dsplit(numpy_array, dim)\n",
    "    \n",
    "    '''\n",
    "    # used to show the masks\n",
    "    plt.imshow(np.dstack((dsplits[0], dsplits[0], dsplits[0])))\n",
    "    plt.show()\n",
    "    for i in dsplits:\n",
    "        plt.imshow(np.dstack((i*100, i*100, i*100)))\n",
    "        plt.show()\n",
    "    '''\n",
    "    dsplits = dsplits[1:]\n",
    "    db = {1:[], 2:[], 3:[]}\n",
    "    \n",
    "    counts = [np.unique(one_array, return_counts=True) for one_array in dsplits]\n",
    "    counts = [list(i) for i in counts]\n",
    "    for i in counts:\n",
    "        index = i[0][1]\n",
    "        count = i[1][1] * size_of_pixel\n",
    "        db[index].append(count)\n",
    "        \n",
    "    return db"
   ]
  },
  {
   "cell_type": "code",
   "execution_count": 76,
   "metadata": {},
   "outputs": [],
   "source": [
    "def plot_nuclei_size(list_of_sizes, num_bins):\n",
    "\n",
    "    \n",
    "    \n",
    "\n",
    "    import matplotlib.mlab as mlab\n",
    "    \n",
    "    fig, ax = plt.subplots()\n",
    "    \n",
    "    mu = np.mean(list_of_sizes)  # mean of distribution\n",
    "    sigma = np.std(list_of_sizes)  # standard deviation of distribution\n",
    "    print('Mean size: ', mu)\n",
    "    print(sum(list_of_sizes)/len(list_of_sizes))\n",
    "\n",
    "    n, bins, patches = ax.hist(x=list_of_sizes, bins='auto', color='#0504aa',\n",
    "                            alpha=0.7, rwidth=0.9)\n",
    "    print(len(bins))\n",
    "    y = ((1 / (np.sqrt(2 * np.pi) * sigma)) * np.exp(-0.5 * (1 / sigma * (bins - mu))**2))\n",
    "    y = mlab.normpdf(bins, mu, sigma) * sum(n * np.diff(bins))\n",
    "    \n",
    "    ax.plot(bins, y, '--', color = 'r')\n",
    "    ax.set_xlabel('Size in \\u03BCm**2')\n",
    "    ax.set_ylabel('Frequency')\n",
    "    ax.text(200, 600, \"Mean = 138.86 \\u03BCm**2\")\n",
    "    ax.grid(axis='y', alpha=0.75)\n",
    "    # Tweak spacing to prevent clipping of ylabel\n",
    "    fig.tight_layout()\n",
    "    plt.xlim(0,400)\n",
    "    maxfreq = np.max(n)\n",
    "    plt.ylim(0, 800)\n",
    "    plt.savefig('/home/max/mrcnn_b_work/folder_to_send/size_histo.png', dpi=100)\n",
    "    \n",
    "    plt.show()\n",
    "    "
   ]
  },
  {
   "cell_type": "code",
   "execution_count": null,
   "metadata": {},
   "outputs": [],
   "source": []
  },
  {
   "cell_type": "code",
   "execution_count": 77,
   "metadata": {},
   "outputs": [],
   "source": [
    "def iterate_through_images(folder, size_of_pixel):\n",
    "    all_nuclei_sizes = []\n",
    "    for img in list_of_images:\n",
    "        numpy_array = np.load(img)\n",
    "        counts = get_pixel_area(numpy_array, size_of_pixel)\n",
    "        #print(img)\n",
    "        if 1 in counts:\n",
    "            [all_nuclei_sizes.append(i) for i in counts[1]]\n",
    "\n",
    "    return all_nuclei_sizes"
   ]
  },
  {
   "cell_type": "code",
   "execution_count": 27,
   "metadata": {},
   "outputs": [],
   "source": [
    "all_sizes = iterate_through_images(list_of_images, size_of_pixel)\n"
   ]
  },
  {
   "cell_type": "code",
   "execution_count": 80,
   "metadata": {},
   "outputs": [
    {
     "name": "stdout",
     "output_type": "stream",
     "text": [
      "7437\n",
      "0.5175473981444131\n",
      "Mean size:  138.8590468199543\n",
      "138.85904681995368\n",
      "190\n"
     ]
    },
    {
     "name": "stderr",
     "output_type": "stream",
     "text": [
      "/home/max/anaconda3/envs/pt_mask_Rcnn_env/lib/python3.6/site-packages/ipykernel_launcher.py:19: MatplotlibDeprecationWarning: scipy.stats.norm.pdf\n"
     ]
    },
    {
     "data": {
      "image/png": "[encoded data removed]",
      "text/plain": [
       "<Figure size 432x288 with 1 Axes>"
      ]
     },
     "metadata": {
      "needs_background": "light"
     },
     "output_type": "display_data"
    }
   ],
   "source": [
    "print(len(all_sizes))\n",
    "between_110_170 = [i for i in all_sizes if i>99 and i<181]\n",
    "print(len(between_110_170)/len(all_sizes))\n",
    "plot_nuclei_size(all_sizes, len(all_sizes))"
   ]
  },
  {
   "cell_type": "code",
   "execution_count": null,
   "metadata": {},
   "outputs": [],
   "source": []
  },
  {
   "cell_type": "code",
   "execution_count": null,
   "metadata": {},
   "outputs": [],
   "source": []
  }
 ],
 "metadata": {
  "kernelspec": {
   "display_name": "pytorch_maskrcnn",
   "language": "python",
   "name": "pt_mask_rcnn_env"
  },
  "language_info": {
   "codemirror_mode": {
    "name": "ipython",
    "version": 3
   },
   "file_extension": ".py",
   "mimetype": "text/x-python",
   "name": "python",
   "nbconvert_exporter": "python",
   "pygments_lexer": "ipython3",
   "version": "3.6.8"
  }
 },
 "nbformat": 4,
 "nbformat_minor": 2
}
