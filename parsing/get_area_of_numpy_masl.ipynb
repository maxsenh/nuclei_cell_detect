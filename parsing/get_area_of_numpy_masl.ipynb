{
 "cells": [
  {
   "cell_type": "code",
   "execution_count": 251,
   "metadata": {},
   "outputs": [],
   "source": [
    "import numpy as np\n",
    "import os\n",
    "import pint\n",
    "import matplotlib.pyplot as plt\n",
    "import matplotlib.pylab as pylab\n",
    "pylab.rcParams['figure.figsize'] = 10,7\n",
    "\n",
    "\n",
    "ureg = pint.UnitRegistry()"
   ]
  },
  {
   "cell_type": "code",
   "execution_count": 252,
   "metadata": {},
   "outputs": [
    {
     "name": "stdout",
     "output_type": "stream",
     "text": [
      "['/home/maxsen/DEEPL/data/training_data/test/Nuclei_SN_Hyb2_pos_116chunk3.npy']\n"
     ]
    }
   ],
   "source": [
    "ROOT = '/home/maxsen/DEEPL/data/training_data/test/'\n",
    "\n",
    "list_of_images = [ROOT + i for i in os.listdir(ROOT)]\n",
    "size_of_pixel = 0.11*ureg.micrometer * 0.11*ureg.micrometer\n",
    "size_of_pixel = 0.11 * 0.11\n",
    "print(list_of_images)"
   ]
  },
  {
   "cell_type": "code",
   "execution_count": 253,
   "metadata": {},
   "outputs": [],
   "source": [
    "def get_pixel_area(numpy_array, size_of_pixel):\n",
    "    height, width, dim = numpy_array.shape\n",
    "    dsplits = np.dsplit(numpy_array, dim)\n",
    "    \n",
    "    '''\n",
    "    # used to show the masks\n",
    "    plt.imshow(np.dstack((dsplits[0], dsplits[0], dsplits[0])))\n",
    "    plt.show()\n",
    "    for i in dsplits:\n",
    "        plt.imshow(np.dstack((i*100, i*100, i*100)))\n",
    "        plt.show()\n",
    "    '''\n",
    "    dsplits = dsplits[1:]\n",
    "    db = {1:[], 2:[], 3:[]}\n",
    "    \n",
    "    counts = [np.unique(one_array, return_counts=True) for one_array in dsplits]\n",
    "    counts = [list(i) for i in counts]\n",
    "    for i in counts:\n",
    "        index = i[0][1]\n",
    "        count = i[1][1] * size_of_pixel\n",
    "        db[index].append(count)\n",
    "        \n",
    "    return db"
   ]
  },
  {
   "cell_type": "code",
   "execution_count": 266,
   "metadata": {},
   "outputs": [],
   "source": [
    "def plot_nuclei_size(list_of_sizes, num_bins):\n",
    "\n",
    "    fig, ax = plt.subplots()\n",
    "    \n",
    "    mu = np.mean(list_of_sizes)  # mean of distribution\n",
    "    sigma = np.std(list_of_sizes)  # standard deviation of distribution\n",
    "\n",
    "    n, bins, patches = ax.hist(list_of_sizes, num_bins, density=1)\n",
    "\n",
    "    # add a 'best fit' line\n",
    "    y = ((1 / (np.sqrt(2 * np.pi) * sigma)) * np.exp(-0.5 * (1 / sigma * (bins - mu))**2))\n",
    "    ax.plot(bins, y, '--')\n",
    "    ax.set_xlabel('Size in \\u03BCm**2')\n",
    "    ax.set_ylabel('Frequency')\n",
    "    #ax.text(4, 0.5, r\"\")\n",
    "\n",
    "    # Tweak spacing to prevent clipping of ylabel\n",
    "    fig.tight_layout()\n",
    "    plt.show()\n",
    "    "
   ]
  },
  {
   "cell_type": "code",
   "execution_count": 267,
   "metadata": {},
   "outputs": [],
   "source": [
    "def iterate_through_images(folder, size_of_pixel):\n",
    "    all_nuclei_sizes = []\n",
    "    for img in list_of_images:\n",
    "        numpy_array = np.load(img)\n",
    "        counts = get_pixel_area(numpy_array, size_of_pixel)\n",
    "        print(img)\n",
    "        if 1 in counts:\n",
    "            [all_nuclei_sizes.append(i) for i in counts[1]]\n",
    "\n",
    "    print()\n",
    "    plot_nuclei_size(all_nuclei_sizes, len(all_nuclei_sizes))"
   ]
  },
  {
   "cell_type": "code",
   "execution_count": 268,
   "metadata": {},
   "outputs": [
    {
     "name": "stdout",
     "output_type": "stream",
     "text": [
      "/home/maxsen/DEEPL/data/training_data/test/Nuclei_SN_Hyb2_pos_116chunk3.npy\n",
      "\n"
     ]
    },
    {
     "data": {
      "image/png": "[encoded data removed]",
      "text/plain": [
       "<Figure size 720x504 with 1 Axes>"
      ]
     },
     "metadata": {
      "needs_background": "light"
     },
     "output_type": "display_data"
    }
   ],
   "source": [
    "iterate_through_images(list_of_images, size_of_pixel)"
   ]
  },
  {
   "cell_type": "code",
   "execution_count": null,
   "metadata": {},
   "outputs": [],
   "source": []
  }
 ],
 "metadata": {
  "kernelspec": {
   "display_name": "deep_learning",
   "language": "python",
   "name": "mrcnn_b"
  },
  "language_info": {
   "codemirror_mode": {
    "name": "ipython",
    "version": 3
   },
   "file_extension": ".py",
   "mimetype": "text/x-python",
   "name": "python",
   "nbconvert_exporter": "python",
   "pygments_lexer": "ipython3",
   "version": "3.6.8"
  }
 },
 "nbformat": 4,
 "nbformat_minor": 2
}
