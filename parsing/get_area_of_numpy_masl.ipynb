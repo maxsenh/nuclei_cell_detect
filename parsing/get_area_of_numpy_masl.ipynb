{
 "cells": [
  {
   "cell_type": "code",
   "execution_count": 148,
   "metadata": {},
   "outputs": [],
   "source": [
    "import numpy as np\n",
    "import os\n",
    "import pint\n",
    "import matplotlib.pyplot as plt\n",
    "import matplotlib.pylab as pylab\n",
    "pylab.rcParams['figure.figsize'] = 15, 15\n",
    "\n",
    "\n",
    "ureg = pint.UnitRegistry()"
   ]
  },
  {
   "cell_type": "code",
   "execution_count": 174,
   "metadata": {},
   "outputs": [
    {
     "name": "stdout",
     "output_type": "stream",
     "text": [
      "['/home/maxsen/DEEPL/data/training_data/test/Nuclei_SN_Hyb2_pos_116chunk3.npy']\n"
     ]
    }
   ],
   "source": [
    "ROOT = '/home/maxsen/DEEPL/data/training_data/test/'\n",
    "list_of_images = [ROOT + i for i in os.listdir(ROOT)]\n",
    "size_of_pixel = 0.11*ureg.micrometer * 0.11*ureg.micrometer\n",
    "size_of_pixel = 0.11 * 0.11\n",
    "print(list_of_images)"
   ]
  },
  {
   "cell_type": "code",
   "execution_count": 175,
   "metadata": {},
   "outputs": [],
   "source": [
    "def get_pixel_area(numpy_array, size_of_pixel):\n",
    "    height, width, dim = numpy_array.shape\n",
    "    dsplits = np.dsplit(numpy_array, dim)\n",
    "    \n",
    "    '''\n",
    "    # used to show the masks\n",
    "    plt.imshow(np.dstack((dsplits[0], dsplits[0], dsplits[0])))\n",
    "    plt.show()\n",
    "    for i in dsplits:\n",
    "        plt.imshow(np.dstack((i*100, i*100, i*100)))\n",
    "        plt.show()\n",
    "    '''\n",
    "    dsplits = dsplits[1:]\n",
    "    db = {1:[], 2:[], 3:[]}\n",
    "    \n",
    "    counts = [np.unique(one_array, return_counts=True) for one_array in dsplits]\n",
    "    counts = [list(i) for i in counts]\n",
    "    for i in counts:\n",
    "        index = i[0][1]\n",
    "        count = i[1][1] * size_of_pixel\n",
    "        db[index].append(count)\n",
    "        \n",
    "    return db"
   ]
  },
  {
   "cell_type": "code",
   "execution_count": 176,
   "metadata": {},
   "outputs": [
    {
     "name": "stdout",
     "output_type": "stream",
     "text": [
      "/home/maxsen/DEEPL/data/training_data/test/Nuclei_SN_Hyb2_pos_116chunk3.npy\n",
      "category_id: 1, area in micrometer**2 [97.405, 93.8476, 9.159699999999999, 148.9026]\n",
      "category_id: 2, area in micrometer**2 [96.8121]\n",
      "category_id: 3, area in micrometer**2 [394.9198, 96.14659999999999]\n"
     ]
    }
   ],
   "source": [
    "\n",
    "for img in list_of_images:\n",
    "    numpy_array = np.load(img)\n",
    "    counts = get_pixel_area(numpy_array, size_of_pixel)\n",
    "    print(img)\n",
    "    for i in counts:\n",
    "        print(\"category_id: {}, area in micrometer**2 {}\".format(i, counts[i]))"
   ]
  },
  {
   "cell_type": "code",
   "execution_count": null,
   "metadata": {},
   "outputs": [],
   "source": []
  },
  {
   "cell_type": "code",
   "execution_count": null,
   "metadata": {},
   "outputs": [],
   "source": []
  }
 ],
 "metadata": {
  "kernelspec": {
   "display_name": "deep_learning",
   "language": "python",
   "name": "mrcnn_b"
  },
  "language_info": {
   "codemirror_mode": {
    "name": "ipython",
    "version": 3
   },
   "file_extension": ".py",
   "mimetype": "text/x-python",
   "name": "python",
   "nbconvert_exporter": "python",
   "pygments_lexer": "ipython3",
   "version": "3.6.8"
  }
 },
 "nbformat": 4,
 "nbformat_minor": 2
}
