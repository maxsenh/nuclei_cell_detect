{
 "cells": [
  {
   "cell_type": "markdown",
   "metadata": {},
   "source": [
    "# Parsing the predictions.pth file and pushing back to labelbox to correct annotations"
   ]
  },
  {
   "cell_type": "code",
   "execution_count": 2,
   "metadata": {},
   "outputs": [],
   "source": [
    "import torch\n",
    "import json\n",
    "import os"
   ]
  },
  {
   "cell_type": "code",
   "execution_count": 3,
   "metadata": {},
   "outputs": [
    {
     "name": "stdout",
     "output_type": "stream",
     "text": [
      "['predictions.pth', 'bbox.json', 'segm.json', 'coco_results.pth']\n"
     ]
    },
    {
     "ename": "NameError",
     "evalue": "name 'model_path' is not defined",
     "output_type": "error",
     "traceback": [
      "\u001b[0;31m---------------------------------------------------------------------------\u001b[0m",
      "\u001b[0;31mNameError\u001b[0m                                 Traceback (most recent call last)",
      "\u001b[0;32m<ipython-input-3-aae094124cad>\u001b[0m in \u001b[0;36m<module>\u001b[0;34m\u001b[0m\n\u001b[1;32m      1\u001b[0m \u001b[0mpath\u001b[0m \u001b[0;34m=\u001b[0m \u001b[0;34m'/data/proj/smFISH/Students/Max_Senftleben/files/models/20190408_r-101_offline/inference/coco_offline_augmented_test/'\u001b[0m\u001b[0;34m\u001b[0m\u001b[0;34m\u001b[0m\u001b[0m\n\u001b[1;32m      2\u001b[0m \u001b[0mprint\u001b[0m\u001b[0;34m(\u001b[0m\u001b[0mos\u001b[0m\u001b[0;34m.\u001b[0m\u001b[0mlistdir\u001b[0m\u001b[0;34m(\u001b[0m\u001b[0mpath\u001b[0m\u001b[0;34m)\u001b[0m\u001b[0;34m)\u001b[0m\u001b[0;34m\u001b[0m\u001b[0;34m\u001b[0m\u001b[0m\n\u001b[0;32m----> 3\u001b[0;31m \u001b[0mcheckpoint\u001b[0m \u001b[0;34m=\u001b[0m \u001b[0mtorch\u001b[0m\u001b[0;34m.\u001b[0m\u001b[0mload\u001b[0m\u001b[0;34m(\u001b[0m\u001b[0mmodel_path\u001b[0m\u001b[0;34m,\u001b[0m \u001b[0mmap_location\u001b[0m \u001b[0;34m=\u001b[0m \u001b[0;34m'cpu'\u001b[0m\u001b[0;34m)\u001b[0m\u001b[0;34m\u001b[0m\u001b[0;34m\u001b[0m\u001b[0m\n\u001b[0m\u001b[1;32m      4\u001b[0m \u001b[0mprint\u001b[0m\u001b[0;34m(\u001b[0m\u001b[0;34m'keys: {}'\u001b[0m\u001b[0;34m.\u001b[0m\u001b[0mformat\u001b[0m\u001b[0;34m(\u001b[0m\u001b[0mcheckpoint\u001b[0m\u001b[0;34m.\u001b[0m\u001b[0mkeys\u001b[0m\u001b[0;34m(\u001b[0m\u001b[0;34m)\u001b[0m\u001b[0;34m)\u001b[0m\u001b[0;34m)\u001b[0m\u001b[0;34m\u001b[0m\u001b[0;34m\u001b[0m\u001b[0m\n",
      "\u001b[0;31mNameError\u001b[0m: name 'model_path' is not defined"
     ]
    }
   ],
   "source": [
    "path = '/data/proj/smFISH/Students/Max_Senftleben/files/models/20190408_r-101_offline/inference/coco_offline_augmented_test/'\n",
    "print(os.listdir(path))\n"
   ]
  },
  {
   "cell_type": "code",
   "execution_count": 6,
   "metadata": {},
   "outputs": [
    {
     "name": "stdout",
     "output_type": "stream",
     "text": [
      "[{'image_id': 530, 'category_id': 1, 'bbox': [990.2970581054688, 609.3059692382812, 30.54205322265625, 183.5286865234375], 'score': 1.0}, {'image_id': 530, 'category_id': 1, 'bbox': [974.5075073242188, 149.110107421875, 49.0023193359375, 123.34036254882812], 'score': 1.0}, {'image_id': 530, 'category_id': 1, 'bbox': [899.5612182617188, 129.18472290039062, 77.61956787109375, 113.81483459472656], 'score': 1.0}, {'image_id': 530, 'category_id': 1, 'bbox': [473.1812744140625, 152.37799072265625, 69.90557861328125, 127.02203369140625], 'score': 1.0}, {'image_id': 530, 'category_id': 1, 'bbox': [920.7164916992188, 366.1617431640625, 90.8466796875, 178.72882080078125], 'score': 1.0}, {'image_id': 530, 'category_id': 1, 'bbox': [826.1166381835938, 563.184814453125, 77.4454345703125, 132.42901611328125], 'score': 1.0}, {'image_id': 530, 'category_id': 1, 'bbox': [569.2294921875, 152.88189697265625, 86.25439453125, 175.47903442382812], 'score': 1.0}, {'image_id': 530, 'category_id': 1, 'bbox': [213.9297637939453, 0.535400390625, 105.62492370605469, 131.51010131835938], 'score': 0.9778979420661926}, {'image_id': 530, 'category_id': 2, 'bbox': [342.7572326660156, 666.2620849609375, 40.5628662109375, 45.19891357421875], 'score': 0.9999924898147583}, {'image_id': 530, 'category_id': 2, 'bbox': [213.75245666503906, 1.55142080783844, 107.91822814941406, 128.26229858398438], 'score': 0.6805583834648132}]\n"
     ]
    }
   ],
   "source": [
    "# load data\n",
    "#checkpoint = torch.load(model_path, map_location = 'cpu')\n",
    "#print('keys: {}'.format(checkpoint.keys()))\n",
    "\n",
    "data = json.load(open(path + 'bbox.json'))\n",
    "print([i for i in data if i['image_id'] == 530])"
   ]
  },
  {
   "cell_type": "code",
   "execution_count": null,
   "metadata": {},
   "outputs": [],
   "source": []
  }
 ],
 "metadata": {
  "kernelspec": {
   "display_name": "pytorch_maskrcnn",
   "language": "python",
   "name": "pt_mask_rcnn_env"
  },
  "language_info": {
   "codemirror_mode": {
    "name": "ipython",
    "version": 3
   },
   "file_extension": ".py",
   "mimetype": "text/x-python",
   "name": "python",
   "nbconvert_exporter": "python",
   "pygments_lexer": "ipython3",
   "version": "3.6.8"
  }
 },
 "nbformat": 4,
 "nbformat_minor": 2
}
