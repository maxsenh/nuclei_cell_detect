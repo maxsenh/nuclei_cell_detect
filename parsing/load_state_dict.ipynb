{
 "cells": [
  {
   "cell_type": "markdown",
   "metadata": {},
   "source": [
    "# Remove certain keys from a maskrcnn benchmark model in order to retrain"
   ]
  },
  {
   "cell_type": "code",
   "execution_count": 1,
   "metadata": {},
   "outputs": [],
   "source": [
    "from maskrcnn_benchmark.config import cfg\n",
    "from maskrcnn_benchmark.utils.c2_model_loading import load_c2_format\n",
    "from maskrcnn_benchmark.modeling.detector import build_detection_model\n",
    "import torch"
   ]
  },
  {
   "cell_type": "code",
   "execution_count": 4,
   "metadata": {},
   "outputs": [
    {
     "name": "stdout",
     "output_type": "stream",
     "text": [
      "keys: dict_keys(['model', 'optimizer', 'scheduler', 'iteration'])\n",
      "keys: dict_keys(['model'])\n"
     ]
    }
   ],
   "source": [
    "# specify config that is being used\n",
    "config = '/home/max/github/nuclei_cell_detect/configs/nuclei_1gpu_transfer_from_ale.yaml'\n",
    "\n",
    "# load config file\n",
    "cfg.merge_from_file(config)\n",
    "cfg.freeze()\n",
    "# pick model that needs to be trimmed\n",
    "model_path = \"/data/proj/smFISH/Students/Max_Senftleben/files/models/20190310_offline_augment/model_0442500.pth\"\n",
    "new_model_path = model_path[:-4] + '_trimmed.pth'\n",
    "\n",
    "# load model\n",
    "checkpoint = torch.load(model_path, map_location = 'cpu')\n",
    "print('old model, keys: {}'.format(checkpoint.keys()))\n",
    "\n",
    "new_model = checkpoint\n",
    "# specify keys that need to be removed\n",
    "keys_to_pop = ['optimizer', 'scheduler', 'iteration']\n",
    "for key in keys_to_pop:\n",
    "    new_model.pop(key)\n",
    "\n",
    "torch.save(new_model, new_model_path)\n",
    "\n",
    "# check model\n",
    "checkpoint = torch.load(new_model_path, map_location = 'cpu')\n",
    "print('new model, keys: {}'.format(checkpoint.keys()))"
   ]
  },
  {
   "cell_type": "code",
   "execution_count": 13,
   "metadata": {},
   "outputs": [],
   "source": []
  },
  {
   "cell_type": "code",
   "execution_count": null,
   "metadata": {},
   "outputs": [],
   "source": []
  }
 ],
 "metadata": {
  "kernelspec": {
   "display_name": "deep_learning",
   "language": "python",
   "name": "mrcnn_b"
  },
  "language_info": {
   "codemirror_mode": {
    "name": "ipython",
    "version": 3
   },
   "file_extension": ".py",
   "mimetype": "text/x-python",
   "name": "python",
   "nbconvert_exporter": "python",
   "pygments_lexer": "ipython3",
   "version": "3.6.8"
  }
 },
 "nbformat": 4,
 "nbformat_minor": 2
}
