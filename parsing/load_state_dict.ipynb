{
 "cells": [
  {
   "cell_type": "code",
   "execution_count": 21,
   "metadata": {},
   "outputs": [],
   "source": [
    "from maskrcnn_benchmark.config import cfg\n",
    "from maskrcnn_benchmark.utils.c2_model_loading import load_c2_format\n",
    "from maskrcnn_benchmark.modeling.detector import build_detection_model\n",
    "import torch"
   ]
  },
  {
   "cell_type": "code",
   "execution_count": 34,
   "metadata": {},
   "outputs": [
    {
     "name": "stdout",
     "output_type": "stream",
     "text": [
      "keys: dict_keys(['model', 'optimizer', 'scheduler', 'iteration'])\n",
      "keys: dict_keys(['model'])\n"
     ]
    }
   ],
   "source": [
    "config = '/home/max/github/nuclei_cell_detect/configs/nuclei_1gpu_transfer.yaml'\n",
    "\n",
    "\n",
    "cfg.merge_from_file(config)\n",
    "cfg.freeze()\n",
    "model_path = \"/data/proj/smFISH/Students/Max_Senftleben/files/models/20190310_offline_augment/model_final.pth\"\n",
    "new_model_path = model_path[:-4] + '_trimmed.pth'\n",
    "\n",
    "checkpoint = torch.load(model_path, map_location = 'cpu')\n",
    "print('keys: {}'.format(checkpoint.keys()))\n",
    "\n",
    "new_model = checkpoint\n",
    "keys_to_pop = ['optimizer', 'scheduler', 'iteration']\n",
    "for key in keys_to_pop:\n",
    "    new_model.pop(key)\n",
    "\n",
    "torch.save(new_model, new_model_path)\n",
    "\n",
    "# check model\n",
    "checkpoint = torch.load(new_model_path, map_location = 'cpu')\n",
    "print('keys: {}'.format(checkpoint.keys()))"
   ]
  },
  {
   "cell_type": "code",
   "execution_count": 13,
   "metadata": {},
   "outputs": [],
   "source": []
  },
  {
   "cell_type": "code",
   "execution_count": null,
   "metadata": {},
   "outputs": [],
   "source": []
  }
 ],
 "metadata": {
  "kernelspec": {
   "display_name": "pytorch_maskrcnn",
   "language": "python",
   "name": "pt_mask_rcnn_env"
  },
  "language_info": {
   "codemirror_mode": {
    "name": "ipython",
    "version": 3
   },
   "file_extension": ".py",
   "mimetype": "text/x-python",
   "name": "python",
   "nbconvert_exporter": "python",
   "pygments_lexer": "ipython3",
   "version": "3.6.8"
  }
 },
 "nbformat": 4,
 "nbformat_minor": 2
}
