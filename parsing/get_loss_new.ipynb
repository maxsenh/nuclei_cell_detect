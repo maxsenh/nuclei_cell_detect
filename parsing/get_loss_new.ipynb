{
 "cells": [
  {
   "cell_type": "markdown",
   "metadata": {},
   "source": [
    "# Get Loss"
   ]
  },
  {
   "cell_type": "code",
   "execution_count": 16,
   "metadata": {},
   "outputs": [],
   "source": [
    "import os\n",
    "import matplotlib.pyplot as plt\n",
    "s = 720000 / 2856\n"
   ]
  },
  {
   "cell_type": "code",
   "execution_count": 17,
   "metadata": {},
   "outputs": [
    {
     "name": "stdout",
     "output_type": "stream",
     "text": [
      "/data/proj/smFISH/Students/Max_Senftleben/files/models/20190508_transfer_new_r50/log.txt\n",
      "['out_polyt_r50_lr000125.txt', 'inference', 'out_polyt_r101_lr000125.txt', 'out_nuclei_r50_lr000125.txt', 'out_nuclei_r101_000125.txt', 'out_polyt_r50_lr0005.txt', 'out_nuclei_r50_lr000125_transfer.txt', 'out_nuclei_r101.txt', 'out_nuclei_r152.txt', 'out_nuclei_r50.txt', 'out_polyt_r101.txt', 'out_polyt_r152.txt', 'out_polyt_r50.txt', 'out_polyt_r101_new.txt', 'out_nuclei_r50_transfer_new.txt']\n"
     ]
    }
   ],
   "source": [
    "OUT1 = '/home/max/mrcnn_b_work/OUT/'\n",
    "OUT = '/data/proj/smFISH/Students/Max_Senftleben/files/models/20190310_offline_augment/'\n",
    "#OUT = '/data/proj/smFISH/Students/Max_Senftleben/files/models/20190408_r-101_offline/'\n",
    "#OUT = '/data/proj/smFISH/Students/Max_Senftleben/files/models/20190424_lr_000125_offline_augment/'\n",
    "#OUT = '/data/proj/smFISH/Students/Max_Senftleben/files/models/20190501_nucl_r101_0_00125/'\n",
    "#OUT = '/data/proj/smFISH/Students/Max_Senftleben/files/models/20190315_poly_t/'\n",
    "#OUT = '/data/proj/smFISH/Students/Max_Senftleben/files/models/20190412_poly_t_r101/'\n",
    "OUT = '/data/proj/smFISH/Students/Max_Senftleben/files/models/20190423_transfer_ale/'\n",
    "OUT = '/data/proj/smFISH/Students/Max_Senftleben/files/models/20190508_transfer_new_r50/'\n",
    "#print(os.listdir(OUT))\n",
    "out_file1 = '20190501_polyt_r50_lr000015.out'\n",
    "out_file = 'log.txt'\n",
    "#out_file2 = '20190313_offline_augment_continue.out'\n",
    "print(OUT + out_file)\n",
    "lines_loss = [line for line in open(OUT + out_file) if line.startswith('2019-0') and line.split()[2] == 'maskrcnn_benchmark.trainer' and line.split()[4] == 'eta:']\n",
    "#lines_loss2 = [line for line in open(OUT + out_file2) if line.startswith('2019-0') and line.split()[2] == 'maskrcnn_benchmark.trainer' and line.split()[4] == 'eta:']\n",
    "#lines_loss = lines_loss + lines_loss2\n",
    "result_folder = '/home/max/mrcnn_b_work/results/'\n",
    "print(os.listdir(result_folder))"
   ]
  },
  {
   "cell_type": "markdown",
   "metadata": {},
   "source": [
    "### one line\n",
    "2019-02-21 15:32:52,678 maskrcnn_benchmark.trainer INFO: eta: 22:59:49  iter: 384020  loss: 0.0335 (0.1234)  loss_classifier: 0.0055 (0.0265)  loss_box_reg: 0.0033 (0.0149)  loss_mask: 0.0254 (0.0720)  loss_objectness: 0.0000 (0.0073)  loss_rpn_box_reg: 0.0003 (0.0027)  time: 0.2530 (0.2464)  data: 0.0052 (0.0066)  lr: 0.002500  max mem: 2280"
   ]
  },
  {
   "cell_type": "code",
   "execution_count": 18,
   "metadata": {},
   "outputs": [
    {
     "name": "stdout",
     "output_type": "stream",
     "text": [
      "['.bash_logout', '.bash_profile', '.bashrc', '.ssh', '.config', '.bash_history', 'github', '.pki', 'anaconda3', '.bashrc-anaconda3.bak', '.conda', '.cache', '.ipython', '.keras', '.nv', '.python_history', '.jupyter', '.local', 'submit_jupyter', '.torch', '.gitconfig', 'downloads', 'gcc-5.2.0', 'objdir', 'submit_jupyter_gpu', 'submit_jupyter_gpu_matter', 'Untitled.ipynb', '.ipynb_checkpoints', 'mrcnn_b_work', 'local_dir2monod.rsync.log', 'inference']\n"
     ]
    }
   ],
   "source": [
    "import matplotlib.pyplot as plt\n",
    "import os\n",
    "ROOT = '/home/max/'\n",
    "import matplotlib.pylab as pylab\n",
    "pylab.rcParams['figure.figsize'] = 20, 12\n",
    "\n",
    "print(os.listdir(ROOT))"
   ]
  },
  {
   "cell_type": "code",
   "execution_count": 25,
   "metadata": {},
   "outputs": [],
   "source": [
    "def eval_vali(fil, iterat, loss):\n",
    "    with open(fil) as op:\n",
    "        all_lines = [i for i in op]\n",
    "    \n",
    "    model = [i.split('/')[-1] for i in all_lines if i.startswith('  WEIGHT: /data')]\n",
    "    models2 = []\n",
    "    for i in model:\n",
    "        sd = i.split('_')[-1].split('.')[0]\n",
    "        if sd == 'final':\n",
    "            models2.append(720000)\n",
    "        elif sd == 'trimmed':\n",
    "            continue        \n",
    "        else:\n",
    "            models2.append(int(sd))\n",
    "    #model = [int(i.split('_')[-1].split('.')[0]) for i in model]\n",
    "    av_iou = [float(i.split()[-1]) for i in all_lines if i.startswith('average IoU all')]\n",
    "    av_ap = [float(i.split()[-1]) for i in all_lines if i.startswith(' Average Precision  (AP) @[ IoU=0.50:0.95 | area=   all | maxDets=100')]\n",
    "    av_ap2 = [float(i.split()[-1]) for i in all_lines if i.startswith(' Average Precision  (AP) @[ IoU=0.50      | area=   all | maxDets=100')]\n",
    "    #print(len(av_iou), len(av_ap), len(models2))\n",
    "    print(max(av_iou))\n",
    "    avs_ap2 = []\n",
    "    avs_iou = []\n",
    "    avs_ap = []\n",
    "    models = []\n",
    "    for i in range(len(models2)-25):\n",
    "        models.append(models2[i])\n",
    "        #models.append(model[i])\n",
    "        #avs_iou.append(av_iou[i*2])\n",
    "        avs_iou.append((av_iou[i*2+1] + av_iou[i*2])/2)\n",
    "        #avs_ap.append(av_ap[i*2])\n",
    "        avs_ap.append((av_ap[i*2+1] + av_ap[i*2])/2)\n",
    "        avs_ap2.append((av_ap2[i*2+1] + av_ap2[i*2])/2)\n",
    "    ap_max = 0\n",
    "    iou_max = 0\n",
    "    it_max = 0\n",
    "    ap2_max  = 0\n",
    "    for i in range(len(avs_iou)):\n",
    "        if avs_iou[i]>iou_max:\n",
    "            iou_max = avs_iou[i]\n",
    "            it_max = models[i]\n",
    "            ap_max = avs_ap[i]\n",
    "            ap2_max = avs_ap2[i]\n",
    "    print('it', it_max)\n",
    "    print('iou',iou_max, max(avs_iou))\n",
    "    print('AP.5', ap_max)\n",
    "    print('AP.95', ap2_max)\n",
    "    #for i in range(len(models)-10):\n",
    "        #print(models[i], avs_iou[i])\n",
    "    print(len(models))\n",
    "    print(len(avs_iou))\n",
    "    plt.plot(iterat, loss, label='Training Loss')\n",
    "    plt.plot(models, avs_iou, label='Intersection-over-Union')\n",
    "    plt.ylim(0, 0.6)\n",
    "    plt.xlim(-10000,600000)\n",
    "    #plt.title(\"Training Loss/Validation Accuracy\")\n",
    "    plt.legend(fancybox = True)\n",
    "    #plt.savefig('/home/max/mrcnn_b_work/folder_to_send/loss_nuclei_r50.png', dpi=100)\n",
    "    plt.show()\n",
    "    print(avs_iou)\n",
    "    #print(models)"
   ]
  },
  {
   "cell_type": "code",
   "execution_count": 26,
   "metadata": {},
   "outputs": [],
   "source": [
    "losses = []\n",
    "iterations = []\n",
    "eta = []\n",
    "indexes = []\n",
    "lr = []\n",
    "loss_classifier = []\n",
    "loss_box_reg = []\n",
    "loss_mask = []\n",
    "loss_objectness = []\n",
    "loss_rpn_box_reg = []\n",
    "\n",
    "days_to_hours = {}\n",
    "for i in range(11):\n",
    "    days_to_hours[i] = i * 24\n",
    "    \n",
    "for i, one_line in enumerate(lines_loss):\n",
    "    elements = one_line.split()\n",
    "    indexes.append(i)\n",
    "    if len(elements) == 39:\n",
    "        \n",
    "        losses.append(float(elements[11]))\n",
    "        iterations.append(int(elements[9]))\n",
    "        lr.append(float(elements[35]))\n",
    "        time = days_to_hours[int(elements[5])] + int(elements[7].split(':')[0])\n",
    "        eta.append(time)\n",
    "        loss_classifier.append(float(elements[14]))\n",
    "        loss_box_reg.append(float(17))\n",
    "        loss_mask.append(float(20))\n",
    "        loss_objectness.append(float(23))\n",
    "        loss_rpn_box_reg.append(float(26))\n",
    "        \n",
    "    elif len(elements) == 37:\n",
    "        \n",
    "        losses.append(float(elements[9]))\n",
    "        iterations.append(int(elements[7]))\n",
    "        lr.append(float(elements[33]))\n",
    "        time = int(elements[5].split(':')[0])\n",
    "        eta.append(time)\n",
    "        loss_classifier.append(float(elements[12]))\n",
    "        loss_box_reg.append(float(15))\n",
    "        loss_mask.append(float(18))\n",
    "        loss_objectness.append(float(21))\n",
    "        loss_rpn_box_reg.append(float(24))\n",
    "        \n",
    "norm_time = [(max(eta) - i) for i in eta]\n",
    "norm_iterations = [i / 100000 for i in iterations]\n",
    "#print(min(losses))"
   ]
  },
  {
   "cell_type": "code",
   "execution_count": 27,
   "metadata": {},
   "outputs": [
    {
     "name": "stdout",
     "output_type": "stream",
     "text": [
      "0.5818802944999718\n",
      "it 100000\n",
      "iou 0.5725110174335517 0.5725110174335517\n",
      "AP.5 0.14150000000000001\n",
      "AP.95 0.2585\n",
      "264\n",
      "264\n"
     ]
    },
    {
     "data": {
      "image/png": "[encoded data removed]",
      "text/plain": [
       "<Figure size 1440x864 with 1 Axes>"
      ]
     },
     "metadata": {
      "needs_background": "light"
     },
     "output_type": "display_data"
    },
    {
     "name": "stdout",
     "output_type": "stream",
     "text": [
      "[0.3974272820716402, 0.45859670771306915, 0.4992805361264414, 0.47300905496775303, 0.5114320430571847, 0.5226091176935219, 0.4965082075073016, 0.5072795415213582, 0.5191796501530158, 0.5517113896645687, 0.5292724858349408, 0.5246998575844313, 0.5577961934814877, 0.5428678898956512, 0.5327494797004999, 0.5478124341848853, 0.5497000738937615, 0.5248093136517031, 0.5490910885628968, 0.5441610982741564, 0.5368435593690519, 0.5530330115897375, 0.5622361783494113, 0.5436831480617346, 0.5441922854572537, 0.5441593932684192, 0.5342682357212512, 0.5339386599507745, 0.5304330110374347, 0.5440832934579543, 0.5579008336882112, 0.5484605128400011, 0.5590980403237957, 0.5559150852346406, 0.5533111710505849, 0.5590173437004425, 0.5501570431570655, 0.5559215225870815, 0.5360233240534433, 0.5725110174335517, 0.5395807197054432, 0.5617683921728285, 0.540422829482396, 0.5445507926380262, 0.5449444648043684, 0.5507312010415217, 0.5267261107663754, 0.5390988078592173, 0.544307627160574, 0.5576023186783402, 0.5418038165058253, 0.5367629161588803, 0.5575192711997539, 0.553429751440716, 0.5512431396234458, 0.5481338307261563, 0.5391496597158686, 0.5356579828154427, 0.5396603734586152, 0.5459000680388395, 0.5400060592229803, 0.5456467803623053, 0.5471821770020959, 0.5493892948499133, 0.5347222263368746, 0.5510107530633289, 0.5454139676993657, 0.5137282648518058, 0.5306185205388307, 0.556780655064234, 0.5537740590196452, 0.5238558923293238, 0.5453635145977486, 0.5340781670332799, 0.5513525066202971, 0.5458980001407732, 0.5400160116955682, 0.5110927641721565, 0.5419832584099185, 0.5393808285058048, 0.5348611923429285, 0.5613234213972087, 0.545461629035527, 0.5400467755797612, 0.5468021946627286, 0.5441976625102463, 0.551890495475112, 0.5479132992812161, 0.5108108688539941, 0.5309454180945179, 0.5356313587837052, 0.48303478534738364, 0.5402727113971769, 0.5554035864054768, 0.5409048952492411, 0.5272993254278227, 0.5427535645371828, 0.5354104739031333, 0.5330303682978428, 0.5353954711151387, 0.5515440181795549, 0.5435348176294942, 0.5191991889620888, 0.5377970809130792, 0.5517074705946818, 0.5503398704291895, 0.5635576872173829, 0.5455197978288762, 0.5476960864890701, 0.5340080312027224, 0.5517614775780808, 0.5482630681329334, 0.5531558112882573, 0.5423806597770076, 0.5365539026045727, 0.5247757648381295, 0.5316862191797322, 0.5536424284758437, 0.5469842148163844, 0.5510426294243044, 0.5453639304822289, 0.5399159553348358, 0.5511226530877311, 0.5261954560579056, 0.529850289503695, 0.5276713153042512, 0.5461992061693026, 0.5568520986946495, 0.5425571499432066, 0.50997326328207, 0.5294750012197683, 0.5437705903440329, 0.552069128685662, 0.494732634313202, 0.5464519846983438, 0.5246910390612465, 0.5520895187232596, 0.5633011507392675, 0.5433197118778466, 0.5337759170575049, 0.5331763860971466, 0.47899595833753494, 0.5623327632862516, 0.5484272123335723, 0.5455023796828742, 0.5303742135857701, 0.5287436984882372, 0.5378571272123315, 0.5124184915236316, 0.5238945876318298, 0.5506254702461737, 0.5556156894506168, 0.51116963274121, 0.5569271001779377, 0.5458544640888043, 0.5218822050572979, 0.5325039451926578, 0.5188008485609668, 0.5396188500035719, 0.5612643673118882, 0.541493547246423, 0.5200430800741231, 0.5390235423398602, 0.5312250402209777, 0.5645214406804774, 0.5483773886777563, 0.508058121174076, 0.5551172252790127, 0.5288361397130592, 0.5279937892567077, 0.5455016544500015, 0.5706996269605225, 0.5266990725755949, 0.5400475158504363, 0.518443509539926, 0.5240294276863279, 0.529261755496133, 0.5457906392888255, 0.5447214849731988, 0.5441869235720479, 0.5418295484524264, 0.5398895651535822, 0.5195864331360358, 0.5418737735137806, 0.5462032295699185, 0.5513897669214214, 0.5348561231722107, 0.5492800187573712, 0.5354814508007331, 0.4913571669034444, 0.5650700017914807, 0.5407881227664508, 0.5402392607963449, 0.5383653777754062, 0.540137389888711, 0.5419321350845118, 0.5452201237295158, 0.5441835706369974, 0.5480169967631574, 0.54517196207589, 0.5484981354929418, 0.5562426530769137, 0.5509888895259389, 0.5527647196779276, 0.5514361605194992, 0.5557994154803936, 0.5562518964242334, 0.5509334667883622, 0.552477978729184, 0.553262910888231, 0.5481179465328092, 0.5499207510262905, 0.5513547980591548, 0.5513415957187262, 0.5454745194164761, 0.5468869171189847, 0.5475145126686207, 0.5446713196224005, 0.5471948545100924, 0.5490669732003195, 0.5474681178588561, 0.5482548635975328, 0.549094035369003, 0.5454544507645605, 0.5461562119067161, 0.5469026999048433, 0.5452143491848251, 0.5447663162852523, 0.5449023904032992, 0.5469835695591523, 0.5421595679238773, 0.5464047810418368, 0.5464582729964171, 0.5431420838518257, 0.5481687475261048, 0.5517564720514303, 0.5509129295362751, 0.545836430806435, 0.5535824298967842, 0.5487471657711657, 0.5424759064699438, 0.5417482532072281, 0.5438509039326906, 0.5430885079787258, 0.545895201857952, 0.5450601413208462, 0.541920678020199, 0.5440114945207545, 0.5443531097480565, 0.5451459997828763, 0.5444663700215249, 0.5433083741843961, 0.5417326198750083, 0.546500482445775, 0.5433612179095928, 0.5417979196834123, 0.5422235183367677, 0.541894859274855, 0.5422437795139031, 0.5422079204898986, 0.5434695420936015, 0.5443510264337807, 0.5444729451873618, 0.5457838325118004]\n"
     ]
    },
    {
     "data": {
      "text/plain": [
       "\"\\n['out_polyt_r50_lr000125.txt', 'inference', 'out_polyt_r101_lr000125.txt', 'out_nuclei_r50_lr000125.txt', \\n'out_nuclei_r101_000125.txt', 'out_polyt_r50_lr0005.txt', 'out_nuclei_r50_lr000125_transfer.txt', \\n'out_nuclei_r101.txt', 'out_nuclei_r152.txt', 'out_nuclei_r50.txt', 'out_polyt_r101.txt', 'out_polyt_r152.txt', 'out_polyt_r50.txt']\\n\""
      ]
     },
     "execution_count": 27,
     "metadata": {},
     "output_type": "execute_result"
    }
   ],
   "source": [
    "eval_vali(result_folder + 'out_nuclei_r50_transfer_new.txt', iterations, losses)\n",
    "'''\n",
    "['out_polyt_r50_lr000125.txt', 'inference', 'out_polyt_r101_lr000125.txt', 'out_nuclei_r50_lr000125.txt', \n",
    "'out_nuclei_r101_000125.txt', 'out_polyt_r50_lr0005.txt', 'out_nuclei_r50_lr000125_transfer.txt', \n",
    "'out_nuclei_r101.txt', 'out_nuclei_r152.txt', 'out_nuclei_r50.txt', 'out_polyt_r101.txt', 'out_polyt_r152.txt', 'out_polyt_r50.txt']\n",
    "'''"
   ]
  },
  {
   "cell_type": "code",
   "execution_count": 10,
   "metadata": {},
   "outputs": [
    {
     "data": {
      "image/png": "[encoded data removed]",
      "text/plain": [
       "<Figure size 1440x864 with 1 Axes>"
      ]
     },
     "metadata": {
      "needs_background": "light"
     },
     "output_type": "display_data"
    }
   ],
   "source": [
    "plt.figure()\n",
    "\n",
    "plt.plot(norm_iterations, loss_classifier)\n",
    "plt.ylabel('Loss_classifier')\n",
    "plt.title('Loss_classifier')\n",
    "plt.xlim()\n",
    "plt.xlabel('Iterations')\n",
    "plt.show()"
   ]
  },
  {
   "cell_type": "code",
   "execution_count": 249,
   "metadata": {},
   "outputs": [
    {
     "data": {
      "image/png": "[encoded data removed]",
      "text/plain": [
       "<Figure size 1440x864 with 1 Axes>"
      ]
     },
     "metadata": {
      "needs_background": "light"
     },
     "output_type": "display_data"
    }
   ],
   "source": [
    "plt.figure()\n",
    "\n",
    "plt.plot(norm_iterations, lr)\n",
    "\n",
    "plt.ylabel('Learning rate')\n",
    "plt.xlabel('Iterations')\n",
    "plt.title(\"Learning rate\")\n",
    "plt.show()"
   ]
  },
  {
   "cell_type": "code",
   "execution_count": 250,
   "metadata": {},
   "outputs": [
    {
     "data": {
      "image/png": "[encoded data removed]",
      "text/plain": [
       "<Figure size 1440x864 with 1 Axes>"
      ]
     },
     "metadata": {
      "needs_background": "light"
     },
     "output_type": "display_data"
    }
   ],
   "source": [
    "plt.figure()\n",
    "\n",
    "plt.plot(norm_iterations, norm_time)\n",
    "plt.ylabel('ETA')\n",
    "plt.xlabel('Iterations')\n",
    "plt.title(\"ETA\")\n",
    "plt.show()"
   ]
  },
  {
   "cell_type": "code",
   "execution_count": 251,
   "metadata": {},
   "outputs": [
    {
     "data": {
      "image/png": "[encoded data removed]",
      "text/plain": [
       "<Figure size 1440x864 with 1 Axes>"
      ]
     },
     "metadata": {
      "needs_background": "light"
     },
     "output_type": "display_data"
    }
   ],
   "source": [
    "plt.figure()\n",
    "\n",
    "plt.plot(norm_iterations, loss_rpn_box_reg)\n",
    "plt.ylabel('Loss')\n",
    "plt.xlabel('Iterations')\n",
    "plt.title(\"Loss_rpn_box_reg\")\n",
    "plt.show()"
   ]
  },
  {
   "cell_type": "code",
   "execution_count": 252,
   "metadata": {},
   "outputs": [
    {
     "data": {
      "image/png": "[encoded data removed]",
      "text/plain": [
       "<Figure size 1440x864 with 1 Axes>"
      ]
     },
     "metadata": {
      "needs_background": "light"
     },
     "output_type": "display_data"
    }
   ],
   "source": [
    "plt.figure()\n",
    "\n",
    "plt.plot(norm_iterations, loss_box_reg)\n",
    "plt.ylabel('Loss')\n",
    "plt.xlabel('Iterations')\n",
    "plt.title('Loss_box_reg')\n",
    "plt.show()"
   ]
  },
  {
   "cell_type": "code",
   "execution_count": 253,
   "metadata": {},
   "outputs": [
    {
     "ename": "FileNotFoundError",
     "evalue": "[Errno 2] No such file or directory: '/data/proj/smFISH/Students/Max_Senftleben/files/models/20190306_coco_complete_popped/'",
     "output_type": "error",
     "traceback": [
      "\u001b[0;31m---------------------------------------------------------------------------\u001b[0m",
      "\u001b[0;31mFileNotFoundError\u001b[0m                         Traceback (most recent call last)",
      "\u001b[0;32m<ipython-input-253-0305f0ec7e7b>\u001b[0m in \u001b[0;36m<module>\u001b[0;34m\u001b[0m\n\u001b[1;32m      1\u001b[0m \u001b[0;31m# cp file\u001b[0m\u001b[0;34m\u001b[0m\u001b[0;34m\u001b[0m\u001b[0;34m\u001b[0m\u001b[0m\n\u001b[1;32m      2\u001b[0m \u001b[0mmodels\u001b[0m \u001b[0;34m=\u001b[0m \u001b[0;34m'/data/proj/smFISH/Students/Max_Senftleben/files/models/20190306_coco_complete_popped/'\u001b[0m\u001b[0;34m\u001b[0m\u001b[0;34m\u001b[0m\u001b[0m\n\u001b[0;32m----> 3\u001b[0;31m \u001b[0mprint\u001b[0m\u001b[0;34m(\u001b[0m\u001b[0mos\u001b[0m\u001b[0;34m.\u001b[0m\u001b[0mlistdir\u001b[0m\u001b[0;34m(\u001b[0m\u001b[0mmodels\u001b[0m\u001b[0;34m)\u001b[0m\u001b[0;34m)\u001b[0m\u001b[0;34m\u001b[0m\u001b[0;34m\u001b[0m\u001b[0m\n\u001b[0m",
      "\u001b[0;31mFileNotFoundError\u001b[0m: [Errno 2] No such file or directory: '/data/proj/smFISH/Students/Max_Senftleben/files/models/20190306_coco_complete_popped/'"
     ]
    }
   ],
   "source": [
    "# cp file\n",
    "models = '/data/proj/smFISH/Students/Max_Senftleben/files/models/20190306_coco_complete_popped/'\n",
    "print(os.listdir(models))"
   ]
  },
  {
   "cell_type": "code",
   "execution_count": null,
   "metadata": {},
   "outputs": [],
   "source": []
  },
  {
   "cell_type": "code",
   "execution_count": null,
   "metadata": {},
   "outputs": [],
   "source": []
  },
  {
   "cell_type": "code",
   "execution_count": null,
   "metadata": {},
   "outputs": [],
   "source": []
  },
  {
   "cell_type": "code",
   "execution_count": null,
   "metadata": {},
   "outputs": [],
   "source": []
  },
  {
   "cell_type": "code",
   "execution_count": null,
   "metadata": {},
   "outputs": [],
   "source": []
  },
  {
   "cell_type": "code",
   "execution_count": null,
   "metadata": {},
   "outputs": [],
   "source": []
  },
  {
   "cell_type": "code",
   "execution_count": null,
   "metadata": {},
   "outputs": [],
   "source": []
  },
  {
   "cell_type": "code",
   "execution_count": null,
   "metadata": {},
   "outputs": [],
   "source": []
  },
  {
   "cell_type": "code",
   "execution_count": null,
   "metadata": {},
   "outputs": [],
   "source": []
  },
  {
   "cell_type": "code",
   "execution_count": null,
   "metadata": {},
   "outputs": [],
   "source": []
  },
  {
   "cell_type": "code",
   "execution_count": null,
   "metadata": {},
   "outputs": [],
   "source": []
  },
  {
   "cell_type": "code",
   "execution_count": null,
   "metadata": {},
   "outputs": [],
   "source": []
  },
  {
   "cell_type": "code",
   "execution_count": null,
   "metadata": {},
   "outputs": [],
   "source": []
  },
  {
   "cell_type": "code",
   "execution_count": null,
   "metadata": {},
   "outputs": [],
   "source": []
  },
  {
   "cell_type": "code",
   "execution_count": null,
   "metadata": {},
   "outputs": [],
   "source": []
  },
  {
   "cell_type": "code",
   "execution_count": null,
   "metadata": {},
   "outputs": [],
   "source": []
  },
  {
   "cell_type": "code",
   "execution_count": null,
   "metadata": {},
   "outputs": [],
   "source": []
  },
  {
   "cell_type": "code",
   "execution_count": null,
   "metadata": {},
   "outputs": [],
   "source": []
  },
  {
   "cell_type": "code",
   "execution_count": null,
   "metadata": {},
   "outputs": [],
   "source": []
  },
  {
   "cell_type": "code",
   "execution_count": null,
   "metadata": {},
   "outputs": [],
   "source": []
  },
  {
   "cell_type": "code",
   "execution_count": null,
   "metadata": {},
   "outputs": [],
   "source": []
  },
  {
   "cell_type": "code",
   "execution_count": null,
   "metadata": {},
   "outputs": [],
   "source": []
  },
  {
   "cell_type": "code",
   "execution_count": null,
   "metadata": {},
   "outputs": [],
   "source": []
  },
  {
   "cell_type": "code",
   "execution_count": null,
   "metadata": {},
   "outputs": [],
   "source": []
  },
  {
   "cell_type": "code",
   "execution_count": null,
   "metadata": {},
   "outputs": [],
   "source": []
  },
  {
   "cell_type": "code",
   "execution_count": null,
   "metadata": {},
   "outputs": [],
   "source": []
  },
  {
   "cell_type": "code",
   "execution_count": null,
   "metadata": {},
   "outputs": [],
   "source": []
  },
  {
   "cell_type": "code",
   "execution_count": null,
   "metadata": {},
   "outputs": [],
   "source": []
  },
  {
   "cell_type": "code",
   "execution_count": null,
   "metadata": {},
   "outputs": [],
   "source": []
  },
  {
   "cell_type": "code",
   "execution_count": null,
   "metadata": {},
   "outputs": [],
   "source": []
  },
  {
   "cell_type": "code",
   "execution_count": null,
   "metadata": {},
   "outputs": [],
   "source": []
  },
  {
   "cell_type": "code",
   "execution_count": null,
   "metadata": {},
   "outputs": [],
   "source": []
  },
  {
   "cell_type": "code",
   "execution_count": null,
   "metadata": {},
   "outputs": [],
   "source": []
  },
  {
   "cell_type": "code",
   "execution_count": null,
   "metadata": {},
   "outputs": [],
   "source": []
  },
  {
   "cell_type": "code",
   "execution_count": null,
   "metadata": {},
   "outputs": [],
   "source": []
  },
  {
   "cell_type": "code",
   "execution_count": null,
   "metadata": {},
   "outputs": [],
   "source": []
  },
  {
   "cell_type": "code",
   "execution_count": null,
   "metadata": {},
   "outputs": [],
   "source": []
  },
  {
   "cell_type": "code",
   "execution_count": null,
   "metadata": {},
   "outputs": [],
   "source": []
  },
  {
   "cell_type": "code",
   "execution_count": null,
   "metadata": {},
   "outputs": [],
   "source": []
  },
  {
   "cell_type": "code",
   "execution_count": null,
   "metadata": {},
   "outputs": [],
   "source": []
  },
  {
   "cell_type": "code",
   "execution_count": null,
   "metadata": {},
   "outputs": [],
   "source": []
  },
  {
   "cell_type": "code",
   "execution_count": null,
   "metadata": {},
   "outputs": [],
   "source": []
  },
  {
   "cell_type": "code",
   "execution_count": null,
   "metadata": {},
   "outputs": [],
   "source": []
  },
  {
   "cell_type": "code",
   "execution_count": null,
   "metadata": {},
   "outputs": [],
   "source": []
  },
  {
   "cell_type": "code",
   "execution_count": null,
   "metadata": {},
   "outputs": [],
   "source": []
  },
  {
   "cell_type": "code",
   "execution_count": null,
   "metadata": {},
   "outputs": [],
   "source": []
  },
  {
   "cell_type": "code",
   "execution_count": null,
   "metadata": {},
   "outputs": [],
   "source": []
  },
  {
   "cell_type": "code",
   "execution_count": null,
   "metadata": {},
   "outputs": [],
   "source": []
  },
  {
   "cell_type": "code",
   "execution_count": null,
   "metadata": {},
   "outputs": [],
   "source": []
  },
  {
   "cell_type": "code",
   "execution_count": null,
   "metadata": {},
   "outputs": [],
   "source": []
  },
  {
   "cell_type": "code",
   "execution_count": null,
   "metadata": {},
   "outputs": [],
   "source": []
  },
  {
   "cell_type": "code",
   "execution_count": null,
   "metadata": {},
   "outputs": [],
   "source": []
  },
  {
   "cell_type": "code",
   "execution_count": null,
   "metadata": {},
   "outputs": [],
   "source": []
  },
  {
   "cell_type": "code",
   "execution_count": null,
   "metadata": {},
   "outputs": [],
   "source": []
  },
  {
   "cell_type": "code",
   "execution_count": null,
   "metadata": {},
   "outputs": [],
   "source": []
  },
  {
   "cell_type": "code",
   "execution_count": null,
   "metadata": {},
   "outputs": [],
   "source": []
  },
  {
   "cell_type": "code",
   "execution_count": null,
   "metadata": {},
   "outputs": [],
   "source": []
  },
  {
   "cell_type": "code",
   "execution_count": null,
   "metadata": {},
   "outputs": [],
   "source": []
  },
  {
   "cell_type": "code",
   "execution_count": null,
   "metadata": {},
   "outputs": [],
   "source": []
  },
  {
   "cell_type": "code",
   "execution_count": null,
   "metadata": {},
   "outputs": [],
   "source": []
  },
  {
   "cell_type": "code",
   "execution_count": null,
   "metadata": {},
   "outputs": [],
   "source": []
  },
  {
   "cell_type": "code",
   "execution_count": null,
   "metadata": {},
   "outputs": [],
   "source": []
  },
  {
   "cell_type": "code",
   "execution_count": null,
   "metadata": {},
   "outputs": [],
   "source": []
  },
  {
   "cell_type": "code",
   "execution_count": null,
   "metadata": {},
   "outputs": [],
   "source": []
  },
  {
   "cell_type": "code",
   "execution_count": null,
   "metadata": {},
   "outputs": [],
   "source": []
  },
  {
   "cell_type": "code",
   "execution_count": null,
   "metadata": {},
   "outputs": [],
   "source": []
  },
  {
   "cell_type": "code",
   "execution_count": null,
   "metadata": {},
   "outputs": [],
   "source": []
  },
  {
   "cell_type": "code",
   "execution_count": null,
   "metadata": {},
   "outputs": [],
   "source": []
  },
  {
   "cell_type": "code",
   "execution_count": null,
   "metadata": {},
   "outputs": [],
   "source": []
  },
  {
   "cell_type": "code",
   "execution_count": null,
   "metadata": {},
   "outputs": [],
   "source": []
  },
  {
   "cell_type": "code",
   "execution_count": null,
   "metadata": {},
   "outputs": [],
   "source": []
  },
  {
   "cell_type": "code",
   "execution_count": null,
   "metadata": {},
   "outputs": [],
   "source": []
  },
  {
   "cell_type": "code",
   "execution_count": null,
   "metadata": {},
   "outputs": [],
   "source": []
  },
  {
   "cell_type": "code",
   "execution_count": null,
   "metadata": {},
   "outputs": [],
   "source": []
  },
  {
   "cell_type": "code",
   "execution_count": null,
   "metadata": {},
   "outputs": [],
   "source": []
  },
  {
   "cell_type": "code",
   "execution_count": null,
   "metadata": {},
   "outputs": [],
   "source": []
  },
  {
   "cell_type": "code",
   "execution_count": null,
   "metadata": {},
   "outputs": [],
   "source": []
  },
  {
   "cell_type": "code",
   "execution_count": null,
   "metadata": {},
   "outputs": [],
   "source": []
  },
  {
   "cell_type": "code",
   "execution_count": null,
   "metadata": {},
   "outputs": [],
   "source": []
  },
  {
   "cell_type": "code",
   "execution_count": null,
   "metadata": {},
   "outputs": [],
   "source": []
  },
  {
   "cell_type": "code",
   "execution_count": null,
   "metadata": {},
   "outputs": [],
   "source": []
  },
  {
   "cell_type": "code",
   "execution_count": null,
   "metadata": {},
   "outputs": [],
   "source": []
  },
  {
   "cell_type": "code",
   "execution_count": null,
   "metadata": {},
   "outputs": [],
   "source": []
  },
  {
   "cell_type": "code",
   "execution_count": null,
   "metadata": {},
   "outputs": [],
   "source": []
  },
  {
   "cell_type": "code",
   "execution_count": null,
   "metadata": {},
   "outputs": [],
   "source": []
  },
  {
   "cell_type": "code",
   "execution_count": null,
   "metadata": {},
   "outputs": [],
   "source": []
  }
 ],
 "metadata": {
  "kernelspec": {
   "display_name": "pytorch_maskrcnn",
   "language": "python",
   "name": "pt_mask_rcnn_env"
  },
  "language_info": {
   "codemirror_mode": {
    "name": "ipython",
    "version": 3
   },
   "file_extension": ".py",
   "mimetype": "text/x-python",
   "name": "python",
   "nbconvert_exporter": "python",
   "pygments_lexer": "ipython3",
   "version": "3.6.8"
  }
 },
 "nbformat": 4,
 "nbformat_minor": 2
}
