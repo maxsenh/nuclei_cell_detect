{
 "cells": [
  {
   "cell_type": "markdown",
   "metadata": {},
   "source": [
    "# Get Loss"
   ]
  },
  {
   "cell_type": "code",
   "execution_count": 30,
   "metadata": {},
   "outputs": [],
   "source": [
    "import os\n",
    "import matplotlib.pyplot as plt\n",
    "s = 720000 / 2856\n"
   ]
  },
  {
   "cell_type": "code",
   "execution_count": 84,
   "metadata": {},
   "outputs": [
    {
     "name": "stdout",
     "output_type": "stream",
     "text": [
      "/data/proj/smFISH/Students/Max_Senftleben/files/models/20190315_poly_t/log.txt\n",
      "['out_polyt_r50_lr000125.txt', 'inference', 'out_polyt_r101_lr000125.txt', 'out_nuclei_r50_lr000125.txt', 'out_nuclei_r101_000125.txt', 'out_polyt_r50_lr0005.txt', 'out_nuclei_r50_lr000125_transfer.txt', 'out_nuclei_r101.txt', 'out_nuclei_r152.txt', 'out_nuclei_r50.txt', 'out_polyt_r101.txt', 'out_polyt_r152.txt', 'out_polyt_r50.txt', 'out_nuclei_r50_transfer_new.txt', 'out_polyt_r101_new.txt', 'out_polyt_r50_new_test_all.txt']\n"
     ]
    }
   ],
   "source": [
    "OUT1 = '/home/max/mrcnn_b_work/OUT/'\n",
    "#OUT = '/data/proj/smFISH/Students/Max_Senftleben/files/models/20190310_offline_augment/'\n",
    "#OUT = '/data/proj/smFISH/Students/Max_Senftleben/files/models/20190408_r-101_offline/'\n",
    "#OUT = '/data/proj/smFISH/Students/Max_Senftleben/files/models/20190424_lr_000125_offline_augment/'\n",
    "#OUT = '/data/proj/smFISH/Students/Max_Senftleben/files/models/20190501_nucl_r101_0_00125/'\n",
    "OUT = '/data/proj/smFISH/Students/Max_Senftleben/files/models/20190315_poly_t/'\n",
    "#OUT = '/data/proj/smFISH/Students/Max_Senftleben/files/models/20190412_poly_t_r101/'\n",
    "#OUT = '/data/proj/smFISH/Students/Max_Senftleben/files/models/20190423_transfer_ale/'\n",
    "#OUT = '/data/proj/smFISH/Students/Max_Senftleben/files/models/20190507_polyt_failed/'\n",
    "#print(os.listdir(OUT))\n",
    "out_file1 = '20190501_polyt_r50_lr000015.out'\n",
    "out_file = 'log.txt'\n",
    "#out_file2 = '20190313_offline_augment_continue.out'\n",
    "print(OUT + out_file)\n",
    "lines_loss = [line for line in open(OUT + out_file) if line.startswith('2019-0') and line.split()[2] == 'maskrcnn_benchmark.trainer' and line.split()[4] == 'eta:']\n",
    "#lines_loss2 = [line for line in open(OUT + out_file2) if line.startswith('2019-0') and line.split()[2] == 'maskrcnn_benchmark.trainer' and line.split()[4] == 'eta:']\n",
    "#lines_loss = lines_loss + lines_loss2\n",
    "result_folder = '/home/max/mrcnn_b_work/results/'\n",
    "print(os.listdir(result_folder))"
   ]
  },
  {
   "cell_type": "markdown",
   "metadata": {},
   "source": [
    "### one line\n",
    "2019-02-21 15:32:52,678 maskrcnn_benchmark.trainer INFO: eta: 22:59:49  iter: 384020  loss: 0.0335 (0.1234)  loss_classifier: 0.0055 (0.0265)  loss_box_reg: 0.0033 (0.0149)  loss_mask: 0.0254 (0.0720)  loss_objectness: 0.0000 (0.0073)  loss_rpn_box_reg: 0.0003 (0.0027)  time: 0.2530 (0.2464)  data: 0.0052 (0.0066)  lr: 0.002500  max mem: 2280"
   ]
  },
  {
   "cell_type": "code",
   "execution_count": 85,
   "metadata": {},
   "outputs": [
    {
     "name": "stdout",
     "output_type": "stream",
     "text": [
      "['.bash_logout', '.bash_profile', '.bashrc', '.ssh', '.config', '.bash_history', 'github', '.pki', 'anaconda3', '.bashrc-anaconda3.bak', '.conda', '.cache', '.ipython', '.keras', '.nv', '.python_history', '.jupyter', '.local', 'submit_jupyter', '.torch', '.gitconfig', 'downloads', 'gcc-5.2.0', 'objdir', 'submit_jupyter_gpu', 'submit_jupyter_gpu_matter', 'Untitled.ipynb', '.ipynb_checkpoints', 'mrcnn_b_work', 'local_dir2monod.rsync.log', 'inference']\n"
     ]
    }
   ],
   "source": [
    "import matplotlib.pyplot as plt\n",
    "import os\n",
    "ROOT = '/home/max/'\n",
    "import matplotlib.pylab as pylab\n",
    "\n",
    "\n",
    "print(os.listdir(ROOT))"
   ]
  },
  {
   "cell_type": "code",
   "execution_count": 86,
   "metadata": {},
   "outputs": [],
   "source": [
    "losses = []\n",
    "iterations = []\n",
    "eta = []\n",
    "indexes = []\n",
    "lr = []\n",
    "loss_classifier = []\n",
    "loss_box_reg = []\n",
    "loss_mask = []\n",
    "loss_objectness = []\n",
    "loss_rpn_box_reg = []\n",
    "\n",
    "days_to_hours = {}\n",
    "for i in range(11):\n",
    "    days_to_hours[i] = i * 24\n",
    "    \n",
    "for i, one_line in enumerate(lines_loss):\n",
    "    elements = one_line.split()\n",
    "    indexes.append(i)\n",
    "    if len(elements) == 39:\n",
    "        \n",
    "        losses.append(float(elements[11]))\n",
    "        iterations.append(int(elements[9]))\n",
    "        lr.append(float(elements[35]))\n",
    "        time = days_to_hours[int(elements[5])] + int(elements[7].split(':')[0])\n",
    "        eta.append(time)\n",
    "        loss_classifier.append(float(elements[14]))\n",
    "        loss_box_reg.append(float(17))\n",
    "        loss_mask.append(float(20))\n",
    "        loss_objectness.append(float(23))\n",
    "        loss_rpn_box_reg.append(float(26))\n",
    "        \n",
    "    elif len(elements) == 37:\n",
    "        \n",
    "        losses.append(float(elements[9]))\n",
    "        iterations.append(int(elements[7]))\n",
    "        lr.append(float(elements[33]))\n",
    "        time = int(elements[5].split(':')[0])\n",
    "        eta.append(time)\n",
    "        loss_classifier.append(float(elements[12]))\n",
    "        loss_box_reg.append(float(15))\n",
    "        loss_mask.append(float(18))\n",
    "        loss_objectness.append(float(21))\n",
    "        loss_rpn_box_reg.append(float(24))\n",
    "        \n",
    "norm_time = [(max(eta) - i) for i in eta]\n",
    "norm_iterations = [i / 100000 for i in iterations]\n",
    "#print(min(losses))\n",
    "\n",
    "\n"
   ]
  },
  {
   "cell_type": "code",
   "execution_count": 87,
   "metadata": {},
   "outputs": [],
   "source": [
    "def eval_vali(fil):\n",
    "    print(fil)\n",
    "    with open(fil) as op:\n",
    "        all_lines = [i for i in op]\n",
    "    \n",
    "    model = [i.split('/')[-1] for i in all_lines if i.startswith('  WEIGHT: /data')]\n",
    "    models2 = []\n",
    "    #models2.append(0)\n",
    "    for i in model:\n",
    "        sd = i.split('_')[-1].split('.')[0]\n",
    "        if sd == 'final':\n",
    "            models2.append(720000)\n",
    "        elif sd == 'trimmed':\n",
    "            continue        \n",
    "        else:\n",
    "            models2.append(int(sd))\n",
    "\n",
    "    #model = [int(i.split('_')[-1].split('.')[0]) for i in model]\n",
    "    av_iou = [float(i.split()[-1]) for i in all_lines if i.startswith('average IoU all')]\n",
    "\n",
    "    av_ap = [float(i.split()[-1]) for i in all_lines if i.startswith(' Average Precision  (AP) @[ IoU=0.50:0.95 | area=   all | maxDets=100')]\n",
    "\n",
    "    av_ap2 = [float(i.split()[-1]) for i in all_lines if i.startswith(' Average Precision  (AP) @[ IoU=0.50      | area=   all | maxDets=100')]\n",
    "    #print(len(av_iou), len(av_ap), len(models2))\n",
    "    avs_ap2 = []\n",
    "    avs_iou = []\n",
    "    avs_ap = []\n",
    "    models = []\n",
    "    avs_iou.append(0)\n",
    "    models.append(0)\n",
    "    avs_ap.append(0)\n",
    "    for i in range(len(models2)-30):\n",
    "        models.append(models2[i])\n",
    "        #models.append(model[i])\n",
    "        #avs_iou.append(av_iou[i*2])\n",
    "        avs_iou.append((av_iou[i*2+1] + av_iou[i*2])/2)\n",
    "        #avs_ap.append(av_ap[i*2])\n",
    "        avs_ap.append((av_ap[i*2+1] + av_ap[i*2])/2)\n",
    "        avs_ap2.append((av_ap2[i*2+1] + av_ap2[i*2])/2)\n",
    "    ap_max = 0\n",
    "    iou_max = 0\n",
    "    it_max = 0\n",
    "    ap2_max  = 0\n",
    "    for i in range(len(avs_iou)):\n",
    "        if avs_iou[i]>iou_max:\n",
    "            iou_max = avs_iou[i]\n",
    "            it_max = models[i]\n",
    "            ap_max = avs_ap[i]\n",
    "            ap2_max = avs_ap2[i]\n",
    "    print('it', it_max)\n",
    "    print('iou',iou_max, max(avs_iou))\n",
    "    print('AP.5', ap_max)\n",
    "    print('AP.95', ap2_max)\n",
    "    #for i in range(len(models)-10):\n",
    "        #print(models[i], avs_iou[i])\n",
    "    return models, avs_iou"
   ]
  },
  {
   "cell_type": "code",
   "execution_count": 88,
   "metadata": {},
   "outputs": [],
   "source": [
    "def plot_eval(file, iterat, loss):\n",
    "    \n",
    "    # get the values\n",
    "    models, avs_iou = eval_vali(file)\n",
    "\n",
    "    fig, axs = plt.subplots(nrows = 1, ncols = 2, sharex=True)\n",
    "    \n",
    "    ax = axs[0]\n",
    "    ax.axis([-10000, 600000, 0, 1])\n",
    "    ax.set_xlabel('Iterations')\n",
    "    ax.set_ylabel('Training Loss')\n",
    "    ax.plot(iterat, loss)\n",
    "    \n",
    "    ax = axs[1]\n",
    "    ax.axis([-10000, 600000, 0, 1])\n",
    "    ax.set_xlabel('Iterations')\n",
    "    ax.set_ylabel('Testing accuracy')\n",
    "    ax.plot(models, avs_iou, color='g')\n",
    "    \n",
    "    fig.tight_layout()\n",
    "    plt.show()\n",
    "       "
   ]
  },
  {
   "cell_type": "code",
   "execution_count": 89,
   "metadata": {},
   "outputs": [
    {
     "name": "stdout",
     "output_type": "stream",
     "text": [
      "/home/max/mrcnn_b_work/results/out_polyt_r50.txt\n",
      "it 440000\n",
      "iou 0.6063481959927302 0.6063481959927302\n",
      "AP.5 0.2205\n",
      "AP.95 0.4515\n"
     ]
    },
    {
     "data": {
      "image/png": "[encoded data removed]",
      "text/plain": [
       "<Figure size 1080x360 with 2 Axes>"
      ]
     },
     "metadata": {
      "needs_background": "light"
     },
     "output_type": "display_data"
    },
    {
     "data": {
      "text/plain": [
       "\"\\n['out_polyt_r50_lr000125.txt', 'inference', 'out_polyt_r101_lr000125.txt', 'out_nuclei_r50_lr000125.txt', \\n'out_nuclei_r101_000125.txt', 'out_polyt_r50_lr0005.txt', 'out_nuclei_r50_lr000125_transfer.txt', \\n'out_nuclei_r101.txt', 'out_nuclei_r152.txt', 'out_nuclei_r50.txt', 'out_polyt_r101.txt', 'out_polyt_r152.txt', 'out_polyt_r50.txt']\\n\""
      ]
     },
     "execution_count": 89,
     "metadata": {},
     "output_type": "execute_result"
    }
   ],
   "source": [
    "pylab.rcParams['figure.figsize'] = 15, 5\n",
    "plot_eval('/home/max/mrcnn_b_work/results/out_polyt_r50.txt', iterations, losses)\n",
    "'''\n",
    "['out_polyt_r50_lr000125.txt', 'inference', 'out_polyt_r101_lr000125.txt', 'out_nuclei_r50_lr000125.txt', \n",
    "'out_nuclei_r101_000125.txt', 'out_polyt_r50_lr0005.txt', 'out_nuclei_r50_lr000125_transfer.txt', \n",
    "'out_nuclei_r101.txt', 'out_nuclei_r152.txt', 'out_nuclei_r50.txt', 'out_polyt_r101.txt', 'out_polyt_r152.txt', 'out_polyt_r50.txt']\n",
    "'''"
   ]
  },
  {
   "cell_type": "code",
   "execution_count": 51,
   "metadata": {},
   "outputs": [
    {
     "data": {
      "image/png": "[encoded data removed]",
      "text/plain": [
       "<Figure size 1080x360 with 1 Axes>"
      ]
     },
     "metadata": {
      "needs_background": "light"
     },
     "output_type": "display_data"
    }
   ],
   "source": [
    "plt.figure()\n",
    "\n",
    "plt.plot(norm_iterations, loss_classifier)\n",
    "plt.ylabel('Loss_classifier')\n",
    "plt.title('Loss_classifier')\n",
    "plt.xlim()\n",
    "plt.xlabel('Iterations')\n",
    "plt.show()"
   ]
  },
  {
   "cell_type": "code",
   "execution_count": 249,
   "metadata": {},
   "outputs": [
    {
     "data": {
      "image/png": "[encoded data removed]",
      "text/plain": [
       "<Figure size 1440x864 with 1 Axes>"
      ]
     },
     "metadata": {
      "needs_background": "light"
     },
     "output_type": "display_data"
    }
   ],
   "source": [
    "plt.figure()\n",
    "\n",
    "plt.plot(norm_iterations, lr)\n",
    "\n",
    "plt.ylabel('Learning rate')\n",
    "plt.xlabel('Iterations')\n",
    "plt.title(\"Learning rate\")\n",
    "plt.show()"
   ]
  },
  {
   "cell_type": "code",
   "execution_count": 250,
   "metadata": {},
   "outputs": [
    {
     "data": {
      "image/png": "[encoded data removed]",
      "text/plain": [
       "<Figure size 1440x864 with 1 Axes>"
      ]
     },
     "metadata": {
      "needs_background": "light"
     },
     "output_type": "display_data"
    }
   ],
   "source": [
    "plt.figure()\n",
    "\n",
    "plt.plot(norm_iterations, norm_time)\n",
    "plt.ylabel('ETA')\n",
    "plt.xlabel('Iterations')\n",
    "plt.title(\"ETA\")\n",
    "plt.show()"
   ]
  },
  {
   "cell_type": "code",
   "execution_count": 251,
   "metadata": {},
   "outputs": [
    {
     "data": {
      "image/png": "[encoded data removed]",
      "text/plain": [
       "<Figure size 1440x864 with 1 Axes>"
      ]
     },
     "metadata": {
      "needs_background": "light"
     },
     "output_type": "display_data"
    }
   ],
   "source": [
    "plt.figure()\n",
    "\n",
    "plt.plot(norm_iterations, loss_rpn_box_reg)\n",
    "plt.ylabel('Loss')\n",
    "plt.xlabel('Iterations')\n",
    "plt.title(\"Loss_rpn_box_reg\")\n",
    "plt.show()"
   ]
  },
  {
   "cell_type": "code",
   "execution_count": 252,
   "metadata": {},
   "outputs": [
    {
     "data": {
      "image/png": "[encoded data removed]",
      "text/plain": [
       "<Figure size 1440x864 with 1 Axes>"
      ]
     },
     "metadata": {
      "needs_background": "light"
     },
     "output_type": "display_data"
    }
   ],
   "source": [
    "plt.figure()\n",
    "\n",
    "plt.plot(norm_iterations, loss_box_reg)\n",
    "plt.ylabel('Loss')\n",
    "plt.xlabel('Iterations')\n",
    "plt.title('Loss_box_reg')\n",
    "plt.show()"
   ]
  },
  {
   "cell_type": "code",
   "execution_count": 253,
   "metadata": {},
   "outputs": [
    {
     "ename": "FileNotFoundError",
     "evalue": "[Errno 2] No such file or directory: '/data/proj/smFISH/Students/Max_Senftleben/files/models/20190306_coco_complete_popped/'",
     "output_type": "error",
     "traceback": [
      "\u001b[0;31m---------------------------------------------------------------------------\u001b[0m",
      "\u001b[0;31mFileNotFoundError\u001b[0m                         Traceback (most recent call last)",
      "\u001b[0;32m<ipython-input-253-0305f0ec7e7b>\u001b[0m in \u001b[0;36m<module>\u001b[0;34m\u001b[0m\n\u001b[1;32m      1\u001b[0m \u001b[0;31m# cp file\u001b[0m\u001b[0;34m\u001b[0m\u001b[0;34m\u001b[0m\u001b[0;34m\u001b[0m\u001b[0m\n\u001b[1;32m      2\u001b[0m \u001b[0mmodels\u001b[0m \u001b[0;34m=\u001b[0m \u001b[0;34m'/data/proj/smFISH/Students/Max_Senftleben/files/models/20190306_coco_complete_popped/'\u001b[0m\u001b[0;34m\u001b[0m\u001b[0;34m\u001b[0m\u001b[0m\n\u001b[0;32m----> 3\u001b[0;31m \u001b[0mprint\u001b[0m\u001b[0;34m(\u001b[0m\u001b[0mos\u001b[0m\u001b[0;34m.\u001b[0m\u001b[0mlistdir\u001b[0m\u001b[0;34m(\u001b[0m\u001b[0mmodels\u001b[0m\u001b[0;34m)\u001b[0m\u001b[0;34m)\u001b[0m\u001b[0;34m\u001b[0m\u001b[0;34m\u001b[0m\u001b[0m\n\u001b[0m",
      "\u001b[0;31mFileNotFoundError\u001b[0m: [Errno 2] No such file or directory: '/data/proj/smFISH/Students/Max_Senftleben/files/models/20190306_coco_complete_popped/'"
     ]
    }
   ],
   "source": [
    "# cp file\n",
    "models = '/data/proj/smFISH/Students/Max_Senftleben/files/models/20190306_coco_complete_popped/'\n",
    "print(os.listdir(models))"
   ]
  },
  {
   "cell_type": "code",
   "execution_count": null,
   "metadata": {},
   "outputs": [],
   "source": []
  },
  {
   "cell_type": "code",
   "execution_count": null,
   "metadata": {},
   "outputs": [],
   "source": []
  },
  {
   "cell_type": "code",
   "execution_count": null,
   "metadata": {},
   "outputs": [],
   "source": []
  },
  {
   "cell_type": "code",
   "execution_count": null,
   "metadata": {},
   "outputs": [],
   "source": []
  },
  {
   "cell_type": "code",
   "execution_count": null,
   "metadata": {},
   "outputs": [],
   "source": []
  },
  {
   "cell_type": "code",
   "execution_count": null,
   "metadata": {},
   "outputs": [],
   "source": []
  },
  {
   "cell_type": "code",
   "execution_count": null,
   "metadata": {},
   "outputs": [],
   "source": []
  },
  {
   "cell_type": "code",
   "execution_count": null,
   "metadata": {},
   "outputs": [],
   "source": []
  },
  {
   "cell_type": "code",
   "execution_count": null,
   "metadata": {},
   "outputs": [],
   "source": []
  },
  {
   "cell_type": "code",
   "execution_count": null,
   "metadata": {},
   "outputs": [],
   "source": []
  },
  {
   "cell_type": "code",
   "execution_count": null,
   "metadata": {},
   "outputs": [],
   "source": []
  },
  {
   "cell_type": "code",
   "execution_count": null,
   "metadata": {},
   "outputs": [],
   "source": []
  },
  {
   "cell_type": "code",
   "execution_count": null,
   "metadata": {},
   "outputs": [],
   "source": []
  },
  {
   "cell_type": "code",
   "execution_count": null,
   "metadata": {},
   "outputs": [],
   "source": []
  },
  {
   "cell_type": "code",
   "execution_count": null,
   "metadata": {},
   "outputs": [],
   "source": []
  },
  {
   "cell_type": "code",
   "execution_count": null,
   "metadata": {},
   "outputs": [],
   "source": []
  },
  {
   "cell_type": "code",
   "execution_count": null,
   "metadata": {},
   "outputs": [],
   "source": []
  },
  {
   "cell_type": "code",
   "execution_count": null,
   "metadata": {},
   "outputs": [],
   "source": []
  },
  {
   "cell_type": "code",
   "execution_count": null,
   "metadata": {},
   "outputs": [],
   "source": []
  },
  {
   "cell_type": "code",
   "execution_count": null,
   "metadata": {},
   "outputs": [],
   "source": []
  },
  {
   "cell_type": "code",
   "execution_count": null,
   "metadata": {},
   "outputs": [],
   "source": []
  },
  {
   "cell_type": "code",
   "execution_count": null,
   "metadata": {},
   "outputs": [],
   "source": []
  },
  {
   "cell_type": "code",
   "execution_count": null,
   "metadata": {},
   "outputs": [],
   "source": []
  },
  {
   "cell_type": "code",
   "execution_count": null,
   "metadata": {},
   "outputs": [],
   "source": []
  },
  {
   "cell_type": "code",
   "execution_count": null,
   "metadata": {},
   "outputs": [],
   "source": []
  },
  {
   "cell_type": "code",
   "execution_count": null,
   "metadata": {},
   "outputs": [],
   "source": []
  },
  {
   "cell_type": "code",
   "execution_count": null,
   "metadata": {},
   "outputs": [],
   "source": []
  },
  {
   "cell_type": "code",
   "execution_count": null,
   "metadata": {},
   "outputs": [],
   "source": []
  },
  {
   "cell_type": "code",
   "execution_count": null,
   "metadata": {},
   "outputs": [],
   "source": []
  },
  {
   "cell_type": "code",
   "execution_count": null,
   "metadata": {},
   "outputs": [],
   "source": []
  },
  {
   "cell_type": "code",
   "execution_count": null,
   "metadata": {},
   "outputs": [],
   "source": []
  },
  {
   "cell_type": "code",
   "execution_count": null,
   "metadata": {},
   "outputs": [],
   "source": []
  },
  {
   "cell_type": "code",
   "execution_count": null,
   "metadata": {},
   "outputs": [],
   "source": []
  },
  {
   "cell_type": "code",
   "execution_count": null,
   "metadata": {},
   "outputs": [],
   "source": []
  },
  {
   "cell_type": "code",
   "execution_count": null,
   "metadata": {},
   "outputs": [],
   "source": []
  },
  {
   "cell_type": "code",
   "execution_count": null,
   "metadata": {},
   "outputs": [],
   "source": []
  },
  {
   "cell_type": "code",
   "execution_count": null,
   "metadata": {},
   "outputs": [],
   "source": []
  },
  {
   "cell_type": "code",
   "execution_count": null,
   "metadata": {},
   "outputs": [],
   "source": []
  },
  {
   "cell_type": "code",
   "execution_count": null,
   "metadata": {},
   "outputs": [],
   "source": []
  },
  {
   "cell_type": "code",
   "execution_count": null,
   "metadata": {},
   "outputs": [],
   "source": []
  },
  {
   "cell_type": "code",
   "execution_count": null,
   "metadata": {},
   "outputs": [],
   "source": []
  },
  {
   "cell_type": "code",
   "execution_count": null,
   "metadata": {},
   "outputs": [],
   "source": []
  },
  {
   "cell_type": "code",
   "execution_count": null,
   "metadata": {},
   "outputs": [],
   "source": []
  },
  {
   "cell_type": "code",
   "execution_count": null,
   "metadata": {},
   "outputs": [],
   "source": []
  },
  {
   "cell_type": "code",
   "execution_count": null,
   "metadata": {},
   "outputs": [],
   "source": []
  },
  {
   "cell_type": "code",
   "execution_count": null,
   "metadata": {},
   "outputs": [],
   "source": []
  },
  {
   "cell_type": "code",
   "execution_count": null,
   "metadata": {},
   "outputs": [],
   "source": []
  },
  {
   "cell_type": "code",
   "execution_count": null,
   "metadata": {},
   "outputs": [],
   "source": []
  },
  {
   "cell_type": "code",
   "execution_count": null,
   "metadata": {},
   "outputs": [],
   "source": []
  },
  {
   "cell_type": "code",
   "execution_count": null,
   "metadata": {},
   "outputs": [],
   "source": []
  },
  {
   "cell_type": "code",
   "execution_count": null,
   "metadata": {},
   "outputs": [],
   "source": []
  },
  {
   "cell_type": "code",
   "execution_count": null,
   "metadata": {},
   "outputs": [],
   "source": []
  },
  {
   "cell_type": "code",
   "execution_count": null,
   "metadata": {},
   "outputs": [],
   "source": []
  },
  {
   "cell_type": "code",
   "execution_count": null,
   "metadata": {},
   "outputs": [],
   "source": []
  },
  {
   "cell_type": "code",
   "execution_count": null,
   "metadata": {},
   "outputs": [],
   "source": []
  },
  {
   "cell_type": "code",
   "execution_count": null,
   "metadata": {},
   "outputs": [],
   "source": []
  },
  {
   "cell_type": "code",
   "execution_count": null,
   "metadata": {},
   "outputs": [],
   "source": []
  },
  {
   "cell_type": "code",
   "execution_count": null,
   "metadata": {},
   "outputs": [],
   "source": []
  },
  {
   "cell_type": "code",
   "execution_count": null,
   "metadata": {},
   "outputs": [],
   "source": []
  },
  {
   "cell_type": "code",
   "execution_count": null,
   "metadata": {},
   "outputs": [],
   "source": []
  },
  {
   "cell_type": "code",
   "execution_count": null,
   "metadata": {},
   "outputs": [],
   "source": []
  },
  {
   "cell_type": "code",
   "execution_count": null,
   "metadata": {},
   "outputs": [],
   "source": []
  },
  {
   "cell_type": "code",
   "execution_count": null,
   "metadata": {},
   "outputs": [],
   "source": []
  },
  {
   "cell_type": "code",
   "execution_count": null,
   "metadata": {},
   "outputs": [],
   "source": []
  },
  {
   "cell_type": "code",
   "execution_count": null,
   "metadata": {},
   "outputs": [],
   "source": []
  },
  {
   "cell_type": "code",
   "execution_count": null,
   "metadata": {},
   "outputs": [],
   "source": []
  },
  {
   "cell_type": "code",
   "execution_count": null,
   "metadata": {},
   "outputs": [],
   "source": []
  },
  {
   "cell_type": "code",
   "execution_count": null,
   "metadata": {},
   "outputs": [],
   "source": []
  },
  {
   "cell_type": "code",
   "execution_count": null,
   "metadata": {},
   "outputs": [],
   "source": []
  },
  {
   "cell_type": "code",
   "execution_count": null,
   "metadata": {},
   "outputs": [],
   "source": []
  },
  {
   "cell_type": "code",
   "execution_count": null,
   "metadata": {},
   "outputs": [],
   "source": []
  },
  {
   "cell_type": "code",
   "execution_count": null,
   "metadata": {},
   "outputs": [],
   "source": []
  },
  {
   "cell_type": "code",
   "execution_count": null,
   "metadata": {},
   "outputs": [],
   "source": []
  },
  {
   "cell_type": "code",
   "execution_count": null,
   "metadata": {},
   "outputs": [],
   "source": []
  },
  {
   "cell_type": "code",
   "execution_count": null,
   "metadata": {},
   "outputs": [],
   "source": []
  },
  {
   "cell_type": "code",
   "execution_count": null,
   "metadata": {},
   "outputs": [],
   "source": []
  },
  {
   "cell_type": "code",
   "execution_count": null,
   "metadata": {},
   "outputs": [],
   "source": []
  },
  {
   "cell_type": "code",
   "execution_count": null,
   "metadata": {},
   "outputs": [],
   "source": []
  },
  {
   "cell_type": "code",
   "execution_count": null,
   "metadata": {},
   "outputs": [],
   "source": []
  },
  {
   "cell_type": "code",
   "execution_count": null,
   "metadata": {},
   "outputs": [],
   "source": []
  },
  {
   "cell_type": "code",
   "execution_count": null,
   "metadata": {},
   "outputs": [],
   "source": []
  },
  {
   "cell_type": "code",
   "execution_count": null,
   "metadata": {},
   "outputs": [],
   "source": []
  },
  {
   "cell_type": "code",
   "execution_count": null,
   "metadata": {},
   "outputs": [],
   "source": []
  },
  {
   "cell_type": "code",
   "execution_count": null,
   "metadata": {},
   "outputs": [],
   "source": []
  },
  {
   "cell_type": "code",
   "execution_count": null,
   "metadata": {},
   "outputs": [],
   "source": []
  },
  {
   "cell_type": "code",
   "execution_count": null,
   "metadata": {},
   "outputs": [],
   "source": []
  }
 ],
 "metadata": {
  "kernelspec": {
   "display_name": "pytorch_maskrcnn",
   "language": "python",
   "name": "pt_mask_rcnn_env"
  },
  "language_info": {
   "codemirror_mode": {
    "name": "ipython",
    "version": 3
   },
   "file_extension": ".py",
   "mimetype": "text/x-python",
   "name": "python",
   "nbconvert_exporter": "python",
   "pygments_lexer": "ipython3",
   "version": "3.6.8"
  }
 },
 "nbformat": 4,
 "nbformat_minor": 2
}
