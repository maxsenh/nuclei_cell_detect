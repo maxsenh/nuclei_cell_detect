{
 "cells": [
  {
   "cell_type": "code",
   "execution_count": 1,
   "metadata": {},
   "outputs": [
    {
     "name": "stdout",
     "output_type": "stream",
     "text": [
      "/home/max/mrcnn_b_work/\n"
     ]
    }
   ],
   "source": [
    "import json\n",
    "from pycocotools.coco import COCO\n",
    "import labelbox2coco as lb2co\n",
    "#ROOT_DIR = \"/home/maxsen/DEEPL\"\n",
    "ROOT_DIR = \"/data/proj/smFISH/Students/Max\"\n",
    "\n",
    "print(ROOT_DIR)\n",
    "import urllib.request as down\n",
    "import os\n"
   ]
  },
  {
   "cell_type": "code",
   "execution_count": 20,
   "metadata": {},
   "outputs": [],
   "source": [
    "box = anno_dir + \"/Nuclei_annotations_and_masks_20150530.json\"\n",
    "coco = anno_dir + \"/annotations/instances_val2017.json\"\n",
    "coco_out = anno_dir + \"/coco_out.json\"\n",
    "new = anno_dir + \"/export-2019-02-04T17_01_30.153Z.json\"\n",
    "new2 = anno_dir + \"/export-coco-2019-02-04T16_59_55.109854.json\"\n",
    "new1_5 = anno_dir + \"/box_wkt.json\"\n",
    "\n",
    "new_monod = anno_dir + \"/val_coco_id.json\"\n",
    "some = anno_dir + '/nuclei_20190205.json'"
   ]
  },
  {
   "cell_type": "code",
   "execution_count": 36,
   "metadata": {
    "scrolled": false
   },
   "outputs": [
    {
     "name": "stdout",
     "output_type": "stream",
     "text": [
      "{'year': 2019, 'version': None, 'description': 'All nuclei', 'contributor': 'simone.codeluppi@gmail.com', 'url': 'labelbox.com', 'date_created': '2019-02-05T15:54:01.211160+00:00'}\n",
      "{'id': 1, 'image_id': 251, 'category_id': 1, 'segmentation': [[94.0, 1133.0, 104.0, 1171.0, 113.0, 1202.0, 123.0, 1209.0, 139.0, 1188.0, 144.0, 1158.0, 134.0, 1131.0, 109.0, 1125.0, 94.0, 1133.0]], 'area': 2714.5, 'bbox': [94.0, 839.0, 50.0, 84.0], 'iscrowd': 0}\n",
      "{'id': 2, 'image_id': 251, 'category_id': 1, 'segmentation': [[258.0, 1652.0, 222.0, 1677.0, 187.0, 1696.0, 174.0, 1728.0, 182.0, 1770.0, 207.0, 1779.0, 251.0, 1765.0, 289.0, 1752.0, 291.0, 1735.0, 282.0, 1706.0, 264.0, 1682.0, 258.0, 1652.0]], 'area': 9448.5, 'bbox': [174.0, 269.0, 117.0, 127.0], 'iscrowd': 0}\n",
      "{'id': 3, 'image_id': 251, 'category_id': 1, 'segmentation': [[594.0, 1784.0, 633.0, 1777.0, 669.0, 1784.0, 705.0, 1780.0, 741.0, 1785.0, 753.0, 1820.0, 761.0, 1845.0, 759.0, 1865.0, 714.0, 1865.0, 659.0, 1849.0, 604.0, 1827.0, 592.0, 1801.0, 594.0, 1784.0]], 'area': 10893.5, 'bbox': [592.0, 183.0, 169.0, 88.0], 'iscrowd': 0}\n",
      "{'id': 4, 'image_id': 251, 'category_id': 2, 'segmentation': [[147.0, 1176.0, 133.0, 1203.0, 122.0, 1215.0, 147.0, 1256.0, 175.0, 1279.0, 211.0, 1286.0, 224.0, 1266.0, 218.0, 1216.0, 192.0, 1187.0, 147.0, 1176.0]], 'area': 7331.0, 'bbox': [122.0, 762.0, 102.0, 110.0], 'iscrowd': 0}\n",
      "{'id': 5, 'image_id': 251, 'category_id': 2, 'segmentation': [[152.0, 1312.0, 139.0, 1365.0, 150.0, 1403.0, 162.0, 1447.0, 169.0, 1498.0, 193.0, 1522.0, 210.0, 1475.0, 211.0, 1417.0, 211.0, 1368.0, 181.0, 1338.0, 152.0, 1312.0]], 'area': 9376.5, 'bbox': [139.0, 526.0, 72.0, 210.0], 'iscrowd': 0}\n",
      "{'id': 6, 'image_id': 251, 'category_id': 2, 'segmentation': [[255.0, 1068.0, 233.0, 1081.0, 232.0, 1118.0, 265.0, 1113.0, 273.0, 1084.0, 255.0, 1068.0]], 'area': 1493.0, 'bbox': [232.0, 930.0, 41.0, 50.0], 'iscrowd': 0}\n",
      "{'id': 7, 'image_id': 251, 'category_id': 2, 'segmentation': [[767.0, 1753.0, 765.0, 1791.0, 774.0, 1827.0, 788.0, 1853.0, 810.0, 1844.0, 810.0, 1817.0, 801.0, 1777.0, 786.0, 1752.0, 767.0, 1753.0]], 'area': 3226.0, 'bbox': [765.0, 195.0, 45.0, 101.0], 'iscrowd': 0}\n",
      "{'id': 251, 'width': 2048, 'height': 2048, 'file_name': 'Nuclei_SN_Hyb2_pos_251.png', 'license': None, 'flickr_url': 'https://firebasestorage.googleapis.com/v0/b/labelbox-193903.appspot.com/o/cjfmccp3bk3690158ofbzjagu%2Ff5ff670e-7ac1-4ac0-ab73-c9eebe87b5f5%2FNuclei_SN_Hyb2_pos_251.png?alt=media&token=c23b0981-f1cb-498d-993d-f2fc792a9206', 'coco_url': 'https://firebasestorage.googleapis.com/v0/b/labelbox-193903.appspot.com/o/cjfmccp3bk3690158ofbzjagu%2Ff5ff670e-7ac1-4ac0-ab73-c9eebe87b5f5%2FNuclei_SN_Hyb2_pos_251.png?alt=media&token=c23b0981-f1cb-498d-993d-f2fc792a9206', 'date_captured': None}\n",
      "[{'supercategory': 'nuclei', 'id': 1, 'name': 'nuclei'}, {'supercategory': 'undefined', 'id': 2, 'name': 'undefined'}, {'supercategory': 'clusters', 'id': 3, 'name': 'clusters'}]\n",
      "[]\n"
     ]
    }
   ],
   "source": [
    "data_box = json.load(open(new_monod))\n",
    "print(data_box['info'])\n",
    "for s in range(len(data_box['annotations'])):\n",
    "    if data_box['annotations'][s]['image_id'] == 251:\n",
    "        print(data_box['annotations'][s])\n",
    "for s in range(len(data_box['images'])):\n",
    "    if data_box['images'][s]['id'] == 251:\n",
    "        print(data_box['images'][s])\n",
    "\n",
    "print(data_box['categories'])\n",
    "print(data_box['licenses'])\n",
    "data_raw = json.load(open(some))\n",
    "#print(data_raw)"
   ]
  },
  {
   "cell_type": "code",
   "execution_count": null,
   "metadata": {},
   "outputs": [],
   "source": [
    "Nuclei_SN_Hyb2_pos_251.png': {'nuclei': {1508: array([[1133,   94],\n",
    "       [1171,  104],\n",
    "       [1202,  113],\n",
    "       [1209,  123],\n",
    "       [1188,  139],\n",
    "       [1158,  144],\n",
    "       [1131,  134],\n",
    "       [1125,  109]]), 1509: array([[1652,  258],\n",
    "       [1677,  222],\n",
    "       [1696,  187],\n",
    "       [1728,  174],\n",
    "       [1770,  182],\n",
    "       [1779,  207],\n",
    "       [1765,  251],\n",
    "       [1752,  289],\n",
    "       [1735,  291],\n",
    "       [1706,  282],\n",
    "       [1682,  264]]), 1510: array([[1784,  594],\n",
    "       [1777,  633],\n",
    "       [1784,  669],\n",
    "       [1780,  705],\n",
    "       [1785,  741],\n",
    "       [1820,  753],\n",
    "       [1845,  761],\n",
    "       [1865,  759],\n",
    "       [1865,  714],\n",
    "       [1849,  659],\n",
    "       [1827,  604],\n",
    "       [1801,  592]])}, 'undefined': {1511: array([[1176,  147],\n",
    "       [1203,  133],\n",
    "       [1215,  122],\n",
    "       [1256,  147],\n",
    "       [1279,  175],\n",
    "       [1286,  211],\n",
    "       [1266,  224],\n",
    "       [1216,  218],\n",
    "       [1187,  192]]), 1512: array([[1312,  152],\n",
    "       [1365,  139],\n",
    "       [1403,  150],\n",
    "       [1447,  162],\n",
    "       [1498,  169],\n",
    "       [1522,  193],\n",
    "       [1475,  210],\n",
    "       [1417,  211],\n",
    "       [1368,  211],\n",
    "       [1338,  181]]), 1513: array([[1068,  255],\n",
    "       [1081,  233],\n",
    "       [1118,  232],\n",
    "       [1113,  265],\n",
    "       [1084,  273]]), 1514: array([[1753,  767],\n",
    "       [1791,  765],\n",
    "       [1827,  774],\n",
    "       [1853,  788],\n",
    "       [1844,  810],\n",
    "       [1817,  810],\n",
    "       [1777,  801],\n",
    "       [1752,  786]])}}"
   ]
  },
  {
   "cell_type": "code",
   "execution_count": 17,
   "metadata": {},
   "outputs": [],
   "source": [
    "train = ROOT_DIR + \"data/self_label/train/\"\n",
    "val = ROOT_DIR + \"data/self_label/val/\"\n",
    "test = ROOT_DIR + \"data/self_label/test/\"\n",
    "counter = 0\n",
    "for annotation in data_box:\n",
    "    if counter <= len(data_box)/2:\n",
    "        img_id = annotation[\"External ID\"]\n",
    "        name_ = folder_to_save + img_id + \".jpg\"\n",
    "        down.urlretrieve(annotation[\"Labeled Data\"], name_)\n",
    "        counter += 1\n",
    "    elif counter <= len(data_box)"
   ]
  },
  {
   "cell_type": "code",
   "execution_count": null,
   "metadata": {},
   "outputs": [],
   "source": []
  },
  {
   "cell_type": "code",
   "execution_count": 18,
   "metadata": {},
   "outputs": [],
   "source": [
    "lb2co.from_json(labeled_data = new_monod, coco_output = anno_dir + \"/test_coco_conv.json\")"
   ]
  },
  {
   "cell_type": "code",
   "execution_count": 10,
   "metadata": {},
   "outputs": [
    {
     "ename": "OSError",
     "evalue": "~/.mxnet/datasets/voc is not a valid dir. Did you forget to initalize                          datasets described in:                          `http://gluon-cv.mxnet.io/build/examples_datasets/index.html`?                          You need to initialize each dataset only once.",
     "output_type": "error",
     "traceback": [
      "\u001b[0;31m---------------------------------------------------------------------------\u001b[0m",
      "\u001b[0;31mOSError\u001b[0m                                   Traceback (most recent call last)",
      "\u001b[0;32m<ipython-input-10-5664d3ad79e3>\u001b[0m in \u001b[0;36m<module>\u001b[0;34m\u001b[0m\n\u001b[1;32m      2\u001b[0m \u001b[0;34m\u001b[0m\u001b[0m\n\u001b[1;32m      3\u001b[0m \u001b[0mvoc_dir\u001b[0m \u001b[0;34m=\u001b[0m \u001b[0mROOT_DIR\u001b[0m \u001b[0;34m+\u001b[0m \u001b[0;34m\"/data/Pascal_VOC/\"\u001b[0m\u001b[0;34m\u001b[0m\u001b[0;34m\u001b[0m\u001b[0m\n\u001b[0;32m----> 4\u001b[0;31m \u001b[0mtrain_dataset\u001b[0m \u001b[0;34m=\u001b[0m \u001b[0mdata\u001b[0m\u001b[0;34m.\u001b[0m\u001b[0mVOCDetection\u001b[0m\u001b[0;34m(\u001b[0m\u001b[0msplits\u001b[0m\u001b[0;34m=\u001b[0m\u001b[0;34m[\u001b[0m\u001b[0;34m(\u001b[0m\u001b[0;36m2007\u001b[0m\u001b[0;34m,\u001b[0m \u001b[0mvoc_dir\u001b[0m\u001b[0;34m+\u001b[0m\u001b[0;34m\"VOC_trainval\"\u001b[0m\u001b[0;34m)\u001b[0m\u001b[0;34m]\u001b[0m\u001b[0;34m)\u001b[0m\u001b[0;34m\u001b[0m\u001b[0;34m\u001b[0m\u001b[0m\n\u001b[0m",
      "\u001b[0;32m~/anaconda3/envs/mrcnn_b/lib/python3.6/site-packages/gluoncv/data/pascal_voc/detection.py\u001b[0m in \u001b[0;36m__init__\u001b[0;34m(self, root, splits, transform, index_map, preload_label)\u001b[0m\n\u001b[1;32m     48\u001b[0m                  \u001b[0msplits\u001b[0m\u001b[0;34m=\u001b[0m\u001b[0;34m(\u001b[0m\u001b[0;34m(\u001b[0m\u001b[0;36m2007\u001b[0m\u001b[0;34m,\u001b[0m \u001b[0;34m'trainval'\u001b[0m\u001b[0;34m)\u001b[0m\u001b[0;34m,\u001b[0m \u001b[0;34m(\u001b[0m\u001b[0;36m2012\u001b[0m\u001b[0;34m,\u001b[0m \u001b[0;34m'trainval'\u001b[0m\u001b[0;34m)\u001b[0m\u001b[0;34m)\u001b[0m\u001b[0;34m,\u001b[0m\u001b[0;34m\u001b[0m\u001b[0;34m\u001b[0m\u001b[0m\n\u001b[1;32m     49\u001b[0m                  transform=None, index_map=None, preload_label=True):\n\u001b[0;32m---> 50\u001b[0;31m         \u001b[0msuper\u001b[0m\u001b[0;34m(\u001b[0m\u001b[0mVOCDetection\u001b[0m\u001b[0;34m,\u001b[0m \u001b[0mself\u001b[0m\u001b[0;34m)\u001b[0m\u001b[0;34m.\u001b[0m\u001b[0m__init__\u001b[0m\u001b[0;34m(\u001b[0m\u001b[0mroot\u001b[0m\u001b[0;34m)\u001b[0m\u001b[0;34m\u001b[0m\u001b[0;34m\u001b[0m\u001b[0m\n\u001b[0m\u001b[1;32m     51\u001b[0m         \u001b[0mself\u001b[0m\u001b[0;34m.\u001b[0m\u001b[0m_im_shapes\u001b[0m \u001b[0;34m=\u001b[0m \u001b[0;34m{\u001b[0m\u001b[0;34m}\u001b[0m\u001b[0;34m\u001b[0m\u001b[0;34m\u001b[0m\u001b[0m\n\u001b[1;32m     52\u001b[0m         \u001b[0mself\u001b[0m\u001b[0;34m.\u001b[0m\u001b[0m_root\u001b[0m \u001b[0;34m=\u001b[0m \u001b[0mos\u001b[0m\u001b[0;34m.\u001b[0m\u001b[0mpath\u001b[0m\u001b[0;34m.\u001b[0m\u001b[0mexpanduser\u001b[0m\u001b[0;34m(\u001b[0m\u001b[0mroot\u001b[0m\u001b[0;34m)\u001b[0m\u001b[0;34m\u001b[0m\u001b[0;34m\u001b[0m\u001b[0m\n",
      "\u001b[0;32m~/anaconda3/envs/mrcnn_b/lib/python3.6/site-packages/gluoncv/data/base.py\u001b[0m in \u001b[0;36m__init__\u001b[0;34m(self, root)\u001b[0m\n\u001b[1;32m     27\u001b[0m                          \u001b[0;31m`\u001b[0m\u001b[0mhttp\u001b[0m\u001b[0;34m:\u001b[0m\u001b[0;34m//\u001b[0m\u001b[0mgluon\u001b[0m\u001b[0;34m-\u001b[0m\u001b[0mcv\u001b[0m\u001b[0;34m.\u001b[0m\u001b[0mmxnet\u001b[0m\u001b[0;34m.\u001b[0m\u001b[0mio\u001b[0m\u001b[0;34m/\u001b[0m\u001b[0mbuild\u001b[0m\u001b[0;34m/\u001b[0m\u001b[0mexamples_datasets\u001b[0m\u001b[0;34m/\u001b[0m\u001b[0mindex\u001b[0m\u001b[0;34m.\u001b[0m\u001b[0mhtml\u001b[0m\u001b[0;31m`\u001b[0m\u001b[0;31m?\u001b[0m\u001b[0;31m \u001b[0m\u001b[0;31m\\\u001b[0m\u001b[0;34m\u001b[0m\u001b[0;34m\u001b[0m\u001b[0m\n\u001b[1;32m     28\u001b[0m                          \u001b[0mYou\u001b[0m \u001b[0mneed\u001b[0m \u001b[0mto\u001b[0m \u001b[0minitialize\u001b[0m \u001b[0meach\u001b[0m \u001b[0mdataset\u001b[0m \u001b[0monly\u001b[0m \u001b[0monce\u001b[0m\u001b[0;34m.\u001b[0m\u001b[0;31m\"\u001b[0m\u001b[0;34m.\u001b[0m\u001b[0mformat\u001b[0m\u001b[0;34m(\u001b[0m\u001b[0mroot\u001b[0m\u001b[0;34m)\u001b[0m\u001b[0;34m\u001b[0m\u001b[0;34m\u001b[0m\u001b[0m\n\u001b[0;32m---> 29\u001b[0;31m             \u001b[0;32mraise\u001b[0m \u001b[0mOSError\u001b[0m\u001b[0;34m(\u001b[0m\u001b[0mhelper_msg\u001b[0m\u001b[0;34m)\u001b[0m\u001b[0;34m\u001b[0m\u001b[0;34m\u001b[0m\u001b[0m\n\u001b[0m\u001b[1;32m     30\u001b[0m \u001b[0;34m\u001b[0m\u001b[0m\n\u001b[1;32m     31\u001b[0m     \u001b[0;34m@\u001b[0m\u001b[0mproperty\u001b[0m\u001b[0;34m\u001b[0m\u001b[0;34m\u001b[0m\u001b[0m\n",
      "\u001b[0;31mOSError\u001b[0m: ~/.mxnet/datasets/voc is not a valid dir. Did you forget to initalize                          datasets described in:                          `http://gluon-cv.mxnet.io/build/examples_datasets/index.html`?                          You need to initialize each dataset only once."
     ]
    }
   ],
   "source": [
    "from gluoncv import data, utils\n",
    "\n",
    "voc_dir = ROOT_DIR + \"/data/Pascal_VOC/\"\n",
    "train_dataset = data.VOCDetection(splits=[(2007, voc_dir+\"VOC_trainval\")])"
   ]
  },
  {
   "cell_type": "code",
   "execution_count": null,
   "metadata": {},
   "outputs": [],
   "source": []
  }
 ],
 "metadata": {
  "kernelspec": {
   "display_name": "pytorch_maskrcnn",
   "language": "python",
   "name": "pt_mask_rcnn_env"
  },
  "language_info": {
   "codemirror_mode": {
    "name": "ipython",
    "version": 3
   },
   "file_extension": ".py",
   "mimetype": "text/x-python",
   "name": "python",
   "nbconvert_exporter": "python",
   "pygments_lexer": "ipython3",
   "version": "3.6.8"
  }
 },
 "nbformat": 4,
 "nbformat_minor": 2
}
