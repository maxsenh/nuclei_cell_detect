{
 "cells": [
  {
   "cell_type": "code",
   "execution_count": 1,
   "metadata": {},
   "outputs": [],
   "source": [
    "import os\n",
    "import json\n",
    "import numpy as np\n",
    "import matplotlib.pyplot as plt\n",
    "import matplotlib.pylab as pylab\n",
    "pylab.rcParams['figure.figsize'] = 20, 12\n"
   ]
  },
  {
   "cell_type": "code",
   "execution_count": 2,
   "metadata": {},
   "outputs": [
    {
     "name": "stdout",
     "output_type": "stream",
     "text": [
      "['anno_coco', 'new_nuclei', 'new_nuclei_mask', 'lbx_test', 'nuclei_20181107', '20190304_raw_nuclei', '20190304_all_nuclei_large', '20190306_raw_and_all', '20190309_aug_pop', '20190306_poly_t']\n"
     ]
    }
   ],
   "source": [
    "anno_folder = '/data/proj/smFISH/Students/Max_Senftleben/files/annotation/'\n",
    "print(os.listdir(anno_folder))"
   ]
  },
  {
   "cell_type": "code",
   "execution_count": 3,
   "metadata": {},
   "outputs": [],
   "source": [
    "def sub(data):\n",
    "    dicts = {}\n",
    "    for i in data:\n",
    "        if i['category_id'] in dicts:\n",
    "            dicts[i['category_id']] += 1\n",
    "        else:\n",
    "            dicts[i['category_id']] = 1\n",
    "    return dicts\n",
    "            \n",
    "def show_obj_per_dataset(folder):\n",
    "    \n",
    "    for file in os.listdir(folder):\n",
    "        print(file)\n",
    "        data = json.load(open(folder + file))\n",
    "        print(len(data['images']))\n",
    "        data = data['annotations']\n",
    "        dicts = sub(data) \n",
    "        print(dicts)\n"
   ]
  },
  {
   "cell_type": "code",
   "execution_count": 4,
   "metadata": {},
   "outputs": [
    {
     "name": "stdout",
     "output_type": "stream",
     "text": [
      "train.json\n",
      "1429\n",
      "{1: 5436, 2: 13, 3: 49}\n",
      "val.json\n",
      "449\n",
      "{1: 1973, 2: 4, 3: 10}\n"
     ]
    }
   ],
   "source": [
    "show_obj_per_dataset('/data/proj/smFISH/Students/Max_Senftleben/files/data/20190422_AMEX_transfer_nuclei/annos/')"
   ]
  },
  {
   "cell_type": "code",
   "execution_count": 5,
   "metadata": {},
   "outputs": [],
   "source": [
    "def show_images(npy_path):\n",
    "    a  = {}\n",
    "    for i in os.listdir(npy_path):\n",
    "        n = np.load(npy_path + i)\n",
    "        l = np.dsplit(n, n.shape[2])[1:]\n",
    "        for s in l:\n",
    "            if np.unique(s)[1] in a:\n",
    "                a[np.unique(s)[1]] += 1\n",
    "            else:\n",
    "                a[np.unique(s)[1]] = 1\n",
    "    print(a)"
   ]
  },
  {
   "cell_type": "code",
   "execution_count": 7,
   "metadata": {},
   "outputs": [
    {
     "name": "stdout",
     "output_type": "stream",
     "text": [
      "{1: 1874, 2: 436, 3: 87}\n"
     ]
    }
   ],
   "source": [
    "show_images('/data/proj/smFISH/Students/Max_Senftleben/files/data/20190422_AMEX_transfer_nuclei/_npy/')"
   ]
  },
  {
   "cell_type": "code",
   "execution_count": null,
   "metadata": {},
   "outputs": [],
   "source": []
  },
  {
   "cell_type": "code",
   "execution_count": null,
   "metadata": {},
   "outputs": [],
   "source": []
  }
 ],
 "metadata": {
  "kernelspec": {
   "display_name": "pytorch_maskrcnn",
   "language": "python",
   "name": "pt_mask_rcnn_env"
  },
  "language_info": {
   "codemirror_mode": {
    "name": "ipython",
    "version": 3
   },
   "file_extension": ".py",
   "mimetype": "text/x-python",
   "name": "python",
   "nbconvert_exporter": "python",
   "pygments_lexer": "ipython3",
   "version": "3.6.8"
  }
 },
 "nbformat": 4,
 "nbformat_minor": 2
}
