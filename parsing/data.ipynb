{
 "cells": [
  {
   "cell_type": "code",
   "execution_count": 24,
   "metadata": {},
   "outputs": [],
   "source": [
    "import os\n",
    "import json\n",
    "import numpy as np\n",
    "import matplotlib.pyplot as plt\n",
    "import matplotlib.pylab as pylab\n",
    "pylab.rcParams['figure.figsize'] = 20, 12\n"
   ]
  },
  {
   "cell_type": "code",
   "execution_count": 25,
   "metadata": {},
   "outputs": [
    {
     "name": "stdout",
     "output_type": "stream",
     "text": [
      "['anno_coco', 'new_nuclei', 'new_nuclei_mask', 'lbx_test', 'nuclei_20181107', '20190304_raw_nuclei', '20190304_all_nuclei_large', '20190306_raw_and_all', '20190309_aug_pop', '20190306_poly_t']\n"
     ]
    }
   ],
   "source": [
    "anno_folder = '/data/proj/smFISH/Students/Max_Senftleben/files/annotation/'\n",
    "print(os.listdir(anno_folder))"
   ]
  },
  {
   "cell_type": "code",
   "execution_count": 18,
   "metadata": {},
   "outputs": [],
   "source": [
    "def sub(data):\n",
    "    dicts = {}\n",
    "    for i in data:\n",
    "        if i['category_id'] in dicts:\n",
    "            dicts[i['category_id']] += 1\n",
    "        else:\n",
    "            dicts[i['category_id']] = 1\n",
    "            \n",
    "    return dicts\n",
    "            \n",
    "def show_obj_per_dataset(folder):\n",
    "    \n",
    "    for file in os.listdir(folder):\n",
    "        print(file)\n",
    "        data = json.load(open(folder + file))\n",
    "        print(len(data['images']))\n",
    "        data = data['annotations']\n",
    "        dicts = sub(data) \n",
    "        print(dicts)\n"
   ]
  },
  {
   "cell_type": "code",
   "execution_count": 19,
   "metadata": {},
   "outputs": [
    {
     "name": "stdout",
     "output_type": "stream",
     "text": [
      "Nuclei____________________\n",
      "train_nuclei_pop.json\n",
      "1944\n",
      "{1: 14280, 2: 3056, 3: 616}\n",
      "val_nuclei_pop.json\n",
      "680\n",
      "{1: 6280, 2: 1640, 3: 136}\n",
      "train_transfer.json\n",
      "56\n",
      "{1: 544, 3: 312, 2: 56}\n",
      "test_pop.json\n",
      "32\n",
      "{1: 464, 3: 184, 2: 26}\n",
      "polyt____________________\n",
      "fs.json\n",
      "8\n",
      "{1: 488, 2: 64, 3: 136}\n",
      "testssss.json\n",
      "0\n",
      "{}\n",
      "val_poly_t.json\n",
      "64\n",
      "{1: 2288, 3: 128, 2: 448}\n",
      "train_poly_t.json\n",
      "448\n",
      "{1: 24440, 2: 5936, 3: 1192, 4: 64}\n",
      "test_poly_t.json\n",
      "9\n",
      "{1: 498, 2: 114, 3: 18}\n",
      "AMEX____________________\n",
      "train.json\n",
      "1429\n",
      "{1: 5436, 2: 13, 3: 49}\n",
      "val.json\n",
      "449\n",
      "{1: 1973, 2: 4, 3: 10}\n"
     ]
    }
   ],
   "source": [
    "print('Nuclei____________________')\n",
    "show_obj_per_dataset(anno_folder + '20190309_aug_pop/')\n",
    "print('polyt____________________')\n",
    "show_obj_per_dataset(anno_folder + '20190306_poly_t/')\n",
    "print('AMEX____________________')\n",
    "show_obj_per_dataset('/data/proj/smFISH/Students/Max_Senftleben/files/data/20190422_AMEX_transfer_nuclei/annos/')"
   ]
  },
  {
   "cell_type": "code",
   "execution_count": 21,
   "metadata": {},
   "outputs": [],
   "source": [
    "def show_images(npy_path):\n",
    "    a  = {}\n",
    "    for i in os.listdir(npy_path):\n",
    "        n = np.load(npy_path + i)\n",
    "        l = np.dsplit(n, n.shape[2])[1:]\n",
    "        for s in l:\n",
    "            if np.unique(s)[1] in a:\n",
    "                a[np.unique(s)[1]] += 1\n",
    "            else:\n",
    "                a[np.unique(s)[1]] = 1\n",
    "    print(a)"
   ]
  },
  {
   "cell_type": "code",
   "execution_count": 23,
   "metadata": {},
   "outputs": [
    {
     "name": "stdout",
     "output_type": "stream",
     "text": [
      "{}\n"
     ]
    }
   ],
   "source": [
    "show_images('/data/proj/smFISH/Students/Max_Senftleben/files/data/20190422_AMEX_transfer_nuclei/npy/')"
   ]
  },
  {
   "cell_type": "code",
   "execution_count": null,
   "metadata": {},
   "outputs": [],
   "source": []
  },
  {
   "cell_type": "code",
   "execution_count": null,
   "metadata": {},
   "outputs": [],
   "source": []
  }
 ],
 "metadata": {
  "kernelspec": {
   "display_name": "pytorch_maskrcnn",
   "language": "python",
   "name": "pt_mask_rcnn_env"
  },
  "language_info": {
   "codemirror_mode": {
    "name": "ipython",
    "version": 3
   },
   "file_extension": ".py",
   "mimetype": "text/x-python",
   "name": "python",
   "nbconvert_exporter": "python",
   "pygments_lexer": "ipython3",
   "version": "3.6.8"
  }
 },
 "nbformat": 4,
 "nbformat_minor": 2
}
