{
 "cells": [
  {
   "cell_type": "code",
   "execution_count": 1,
   "metadata": {},
   "outputs": [],
   "source": [
    "from __future__ import print_function\n",
    "#import mrcnn\n",
    "import json\n",
    "import os\n",
    "import matplotlib.pyplot as plt\n",
    "import matplotlib.pylab as pylab\n",
    "from io import BytesIO\n",
    "from PIL import Image\n",
    "import numpy as np\n",
    "import matplotlib.patches as patches\n",
    "#from mrcnn.visualize import random_colors, apply_mask, find_contours\n",
    "import matplotlib.image as mpimg\n",
    "from scipy.misc import toimage, imsave\n",
    "from skimage import io\n",
    "import glob\n",
    "import skimage\n",
    "from skimage import measure\n",
    "from shapely.geometry import Polygon, MultiPolygon\n",
    "import urllib.request\n",
    "from shapely.affinity import scale\n",
    "from skimage.color import grey2rgb\n",
    "#import torch\n",
    "import matplotlib.pylab as pylab\n",
    "from maskrcnn_benchmark.structures.bounding_box import BoxList\n",
    "pylab.rcParams['figure.figsize'] = 20, 12\n"
   ]
  },
  {
   "cell_type": "code",
   "execution_count": null,
   "metadata": {},
   "outputs": [],
   "source": []
  }
 ],
 "metadata": {
  "kernelspec": {
   "display_name": "pytorch_maskrcnn",
   "language": "python",
   "name": "pt_mask_rcnn_env"
  },
  "language_info": {
   "codemirror_mode": {
    "name": "ipython",
    "version": 3
   },
   "file_extension": ".py",
   "mimetype": "text/x-python",
   "name": "python",
   "nbconvert_exporter": "python",
   "pygments_lexer": "ipython3",
   "version": "3.6.8"
  }
 },
 "nbformat": 4,
 "nbformat_minor": 2
}
