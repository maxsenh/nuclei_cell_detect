{
 "cells": [
  {
   "cell_type": "code",
   "execution_count": 3,
   "metadata": {},
   "outputs": [],
   "source": [
    "import torch\n",
    "import os"
   ]
  },
  {
   "cell_type": "code",
   "execution_count": 4,
   "metadata": {},
   "outputs": [
    {
     "name": "stdout",
     "output_type": "stream",
     "text": [
      "['segm.json', 'coco_results.pth', 'predictions.pth', 'bbox.json']\n"
     ]
    }
   ],
   "source": [
    "inference_folder = '/home/maxsen/DEEPL/inference_r_101/'\n",
    "print(os.listdir(inference_folder))"
   ]
  },
  {
   "cell_type": "code",
   "execution_count": 6,
   "metadata": {},
   "outputs": [],
   "source": [
    "def load_predictions(model):\n",
    "    all_predictions = torch.load(model)\n",
    "    return all_predictions"
   ]
  },
  {
   "cell_type": "code",
   "execution_count": 15,
   "metadata": {},
   "outputs": [
    {
     "name": "stdout",
     "output_type": "stream",
     "text": [
      "tensor([5.9397e-07, 2.5559e-07, 1.8072e-08, 3.6783e-08, 2.3800e-08, 6.7056e-08,\n",
      "        4.2036e-08, 1.2102e-07, 6.7564e-08, 1.8886e-07, 9.9324e-08, 2.9594e-07,\n",
      "        1.7286e-07, 5.1596e-07, 3.2474e-07, 9.2540e-07, 7.5389e-07, 2.2966e-06,\n",
      "        2.6483e-06, 7.2938e-06, 1.1197e-05, 2.8891e-05, 3.1999e-05, 1.2353e-04,\n",
      "        5.3324e-04, 8.4356e-03, 8.1375e-02, 3.8836e-01])\n"
     ]
    }
   ],
   "source": [
    "predis = load_predictions(inference_folder + \"predictions.pth\")\n",
    "print(vars(predis[0])['extra_fields']['mask'][0][0][0])"
   ]
  },
  {
   "cell_type": "code",
   "execution_count": null,
   "metadata": {},
   "outputs": [],
   "source": []
  }
 ],
 "metadata": {
  "kernelspec": {
   "display_name": "deep_learning",
   "language": "python",
   "name": "mrcnn_b"
  },
  "language_info": {
   "codemirror_mode": {
    "name": "ipython",
    "version": 3
   },
   "file_extension": ".py",
   "mimetype": "text/x-python",
   "name": "python",
   "nbconvert_exporter": "python",
   "pygments_lexer": "ipython3",
   "version": "3.6.8"
  }
 },
 "nbformat": 4,
 "nbformat_minor": 2
}
