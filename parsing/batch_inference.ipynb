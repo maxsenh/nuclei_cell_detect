{
 "cells": [
  {
   "cell_type": "code",
   "execution_count": 1,
   "metadata": {},
   "outputs": [],
   "source": [
    "import torch\n",
    "import os"
   ]
  },
  {
   "cell_type": "code",
   "execution_count": 2,
   "metadata": {},
   "outputs": [
    {
     "name": "stdout",
     "output_type": "stream",
     "text": [
      "['segm.json', 'coco_results.pth', 'predictions.pth', 'bbox.json']\n"
     ]
    }
   ],
   "source": [
    "inference_folder = '/home/maxsen/DEEPL/inference_r_101/'\n",
    "print(os.listdir(inference_folder))"
   ]
  },
  {
   "cell_type": "code",
   "execution_count": 6,
   "metadata": {},
   "outputs": [],
   "source": [
    "def load_predictions(model):\n",
    "    all_predictions = torch.load(model, map_location = 'cpu')\n",
    "    return all_predictions"
   ]
  },
  {
   "cell_type": "code",
   "execution_count": 15,
   "metadata": {},
   "outputs": [
    {
     "name": "stdout",
     "output_type": "stream",
     "text": [
      "{'bbox': tensor([[7.7367e+02, 4.7602e+02, 7.9675e+02, 6.1862e+02],\n",
      "        [7.6133e+02, 1.1649e+02, 7.9884e+02, 2.1207e+02],\n",
      "        [7.0278e+02, 1.0093e+02, 7.6264e+02, 1.8906e+02],\n",
      "        [3.6967e+02, 1.1905e+02, 4.2351e+02, 2.1750e+02],\n",
      "        [7.1931e+02, 2.8606e+02, 7.8950e+02, 4.2491e+02],\n",
      "        [6.4540e+02, 4.3999e+02, 7.0513e+02, 5.4267e+02],\n",
      "        [4.4471e+02, 1.1944e+02, 5.1132e+02, 2.5575e+02],\n",
      "        [1.6713e+02, 4.1828e-01, 2.4887e+02, 1.0238e+02],\n",
      "        [2.6778e+02, 5.2052e+02, 2.9869e+02, 5.5505e+02],\n",
      "        [1.6699e+02, 1.2120e+00, 2.5052e+02, 1.0064e+02]]), 'size': (800, 800), 'mode': 'xyxy', 'extra_fields': {'scores': tensor([1.0000, 1.0000, 1.0000, 1.0000, 1.0000, 1.0000, 1.0000, 0.9779, 1.0000,\n",
      "        0.6806]), 'labels': tensor([1, 1, 1, 1, 1, 1, 1, 1, 2, 2]), 'mask': tensor([[[[5.9397e-07, 2.5559e-07, 1.8072e-08,  ..., 8.4356e-03,\n",
      "           8.1375e-02, 3.8836e-01],\n",
      "          [1.8066e-07, 4.9075e-08, 5.1417e-09,  ..., 7.4576e-02,\n",
      "           5.7587e-01, 8.5532e-01],\n",
      "          [6.4776e-09, 2.9084e-09, 1.5926e-10,  ..., 7.6747e-01,\n",
      "           9.7627e-01, 9.9156e-01],\n",
      "          ...,\n",
      "          [5.6894e-06, 3.1005e-06, 8.8923e-07,  ..., 9.9999e-01,\n",
      "           9.9996e-01, 9.9988e-01],\n",
      "          [3.8270e-05, 2.3966e-05, 5.4065e-06,  ..., 9.9934e-01,\n",
      "           9.9838e-01, 9.9705e-01],\n",
      "          [7.4748e-05, 4.4471e-05, 1.1981e-05,  ..., 6.9392e-01,\n",
      "           8.4365e-01, 8.7576e-01]]],\n",
      "\n",
      "\n",
      "        [[[4.2470e-05, 1.2018e-05, 4.2516e-07,  ..., 8.3886e-01,\n",
      "           8.8301e-01, 8.8534e-01],\n",
      "          [3.7733e-05, 9.9670e-06, 3.6697e-07,  ..., 9.9999e-01,\n",
      "           9.9993e-01, 9.9966e-01],\n",
      "          [1.7708e-05, 7.6277e-06, 2.6474e-07,  ..., 1.0000e+00,\n",
      "           1.0000e+00, 9.9999e-01],\n",
      "          ...,\n",
      "          [5.3729e-08, 1.9226e-08, 2.5422e-09,  ..., 9.9989e-01,\n",
      "           9.9895e-01, 9.9527e-01],\n",
      "          [8.3959e-07, 3.8571e-07, 3.3038e-08,  ..., 9.5551e-01,\n",
      "           8.9279e-01, 8.2364e-01],\n",
      "          [1.9635e-06, 7.8420e-07, 8.1681e-08,  ..., 4.9623e-02,\n",
      "           1.0720e-01, 1.4415e-01]]],\n",
      "\n",
      "\n",
      "        [[[3.2693e-06, 1.9283e-06, 1.2652e-07,  ..., 1.3744e-07,\n",
      "           1.0512e-06, 2.0768e-06],\n",
      "          [1.6453e-06, 7.1552e-07, 7.6291e-08,  ..., 5.0401e-08,\n",
      "           5.7436e-07, 8.3326e-07],\n",
      "          [1.2230e-07, 8.1219e-08, 5.7794e-09,  ..., 2.7395e-09,\n",
      "           2.3721e-08, 4.2686e-08],\n",
      "          ...,\n",
      "          [2.7456e-09, 7.5468e-10, 1.3665e-11,  ..., 2.6456e-06,\n",
      "           3.0744e-06, 1.1890e-06],\n",
      "          [1.6474e-07, 6.1483e-08, 1.7084e-09,  ..., 7.3359e-06,\n",
      "           1.5685e-05, 1.0119e-05],\n",
      "          [4.7165e-07, 1.5981e-07, 6.7329e-09,  ..., 8.2754e-06,\n",
      "           2.2532e-05, 1.4499e-05]]],\n",
      "\n",
      "\n",
      "        ...,\n",
      "\n",
      "\n",
      "        [[[2.5546e-06, 1.3624e-06, 9.1918e-08,  ..., 9.9822e-01,\n",
      "           9.9745e-01, 9.8937e-01],\n",
      "          [1.0262e-06, 3.6558e-07, 3.7987e-08,  ..., 9.9999e-01,\n",
      "           9.9990e-01, 9.9861e-01],\n",
      "          [4.0606e-08, 1.9364e-08, 7.9337e-10,  ..., 1.0000e+00,\n",
      "           9.9997e-01, 9.9694e-01],\n",
      "          ...,\n",
      "          [2.0300e-03, 5.9610e-01, 9.9941e-01,  ..., 2.0882e-08,\n",
      "           2.4574e-07, 4.9144e-07],\n",
      "          [6.6726e-03, 2.5539e-01, 9.5832e-01,  ..., 3.3021e-07,\n",
      "           2.7055e-06, 6.5374e-06],\n",
      "          [4.5750e-03, 4.4698e-02, 2.2339e-01,  ..., 7.2824e-07,\n",
      "           5.8436e-06, 1.1399e-05]]],\n",
      "\n",
      "\n",
      "        [[[1.5280e-04, 1.0315e-04, 2.3116e-05,  ..., 9.3310e-03,\n",
      "           2.7047e-03, 2.0547e-03],\n",
      "          [8.3334e-05, 5.5298e-05, 1.3220e-05,  ..., 1.1997e-01,\n",
      "           1.2364e-02, 4.2005e-03],\n",
      "          [7.7174e-06, 5.2423e-06, 9.0016e-07,  ..., 8.6264e-01,\n",
      "           1.0237e-01, 1.4073e-02],\n",
      "          ...,\n",
      "          [1.1042e-01, 6.2098e-01, 8.2963e-01,  ..., 1.6642e-02,\n",
      "           7.6565e-03, 2.8395e-03],\n",
      "          [1.2023e-01, 3.9891e-01, 6.0200e-01,  ..., 1.2379e-02,\n",
      "           1.1433e-02, 6.0235e-03],\n",
      "          [7.6265e-02, 1.9603e-01, 2.4430e-01,  ..., 1.1652e-02,\n",
      "           1.2619e-02, 8.1737e-03]]],\n",
      "\n",
      "\n",
      "        [[[7.4450e-06, 3.5681e-06, 2.8915e-07,  ..., 9.9783e-01,\n",
      "           9.9459e-01, 9.4730e-01],\n",
      "          [3.3223e-06, 1.2242e-06, 1.3283e-07,  ..., 9.9991e-01,\n",
      "           9.9912e-01, 9.7427e-01],\n",
      "          [1.5303e-07, 6.0799e-08, 3.5457e-09,  ..., 9.9999e-01,\n",
      "           9.9902e-01, 8.3969e-01],\n",
      "          ...,\n",
      "          [1.5862e-03, 5.3659e-01, 9.9924e-01,  ..., 1.1690e-07,\n",
      "           1.0555e-06, 1.8058e-06],\n",
      "          [6.7593e-03, 2.8759e-01, 9.7346e-01,  ..., 1.2911e-06,\n",
      "           9.8081e-06, 1.8206e-05],\n",
      "          [6.5811e-03, 8.7625e-02, 4.4726e-01,  ..., 2.9998e-06,\n",
      "           2.0441e-05, 3.4070e-05]]]])}}\n"
     ]
    }
   ],
   "source": [
    "predis = load_predictions(inference_folder + \"predictions.pth\")\n",
    "print(vars(predis[0]))"
   ]
  },
  {
   "cell_type": "code",
   "execution_count": 10,
   "metadata": {},
   "outputs": [
    {
     "ename": "ImportError",
     "evalue": "libcudart.so.10.0: cannot open shared object file: No such file or directory",
     "output_type": "error",
     "traceback": [
      "\u001b[0;31m---------------------------------------------------------------------------\u001b[0m",
      "\u001b[0;31mImportError\u001b[0m                               Traceback (most recent call last)",
      "\u001b[0;32m<ipython-input-10-cb2bdb95b069>\u001b[0m in \u001b[0;36m<module>\u001b[0;34m\u001b[0m\n\u001b[0;32m----> 1\u001b[0;31m \u001b[0mcoco_predis\u001b[0m \u001b[0;34m=\u001b[0m \u001b[0mload_predictions\u001b[0m\u001b[0;34m(\u001b[0m\u001b[0minference_folder\u001b[0m \u001b[0;34m+\u001b[0m \u001b[0;34m'coco_results.pth'\u001b[0m\u001b[0;34m)\u001b[0m\u001b[0;34m\u001b[0m\u001b[0;34m\u001b[0m\u001b[0m\n\u001b[0m",
      "\u001b[0;32m<ipython-input-6-fdfd93ba976e>\u001b[0m in \u001b[0;36mload_predictions\u001b[0;34m(model)\u001b[0m\n\u001b[1;32m      1\u001b[0m \u001b[0;32mdef\u001b[0m \u001b[0mload_predictions\u001b[0m\u001b[0;34m(\u001b[0m\u001b[0mmodel\u001b[0m\u001b[0;34m)\u001b[0m\u001b[0;34m:\u001b[0m\u001b[0;34m\u001b[0m\u001b[0;34m\u001b[0m\u001b[0m\n\u001b[0;32m----> 2\u001b[0;31m     \u001b[0mall_predictions\u001b[0m \u001b[0;34m=\u001b[0m \u001b[0mtorch\u001b[0m\u001b[0;34m.\u001b[0m\u001b[0mload\u001b[0m\u001b[0;34m(\u001b[0m\u001b[0mmodel\u001b[0m\u001b[0;34m,\u001b[0m \u001b[0mmap_location\u001b[0m \u001b[0;34m=\u001b[0m \u001b[0;34m'cpu'\u001b[0m\u001b[0;34m)\u001b[0m\u001b[0;34m\u001b[0m\u001b[0;34m\u001b[0m\u001b[0m\n\u001b[0m\u001b[1;32m      3\u001b[0m     \u001b[0;32mreturn\u001b[0m \u001b[0mall_predictions\u001b[0m\u001b[0;34m\u001b[0m\u001b[0;34m\u001b[0m\u001b[0m\n",
      "\u001b[0;32m~/anaconda3/envs/mrcnn_b/lib/python3.6/site-packages/torch/serialization.py\u001b[0m in \u001b[0;36mload\u001b[0;34m(f, map_location, pickle_module, **pickle_load_args)\u001b[0m\n\u001b[1;32m    385\u001b[0m         \u001b[0mf\u001b[0m \u001b[0;34m=\u001b[0m \u001b[0mf\u001b[0m\u001b[0;34m.\u001b[0m\u001b[0mopen\u001b[0m\u001b[0;34m(\u001b[0m\u001b[0;34m'rb'\u001b[0m\u001b[0;34m)\u001b[0m\u001b[0;34m\u001b[0m\u001b[0;34m\u001b[0m\u001b[0m\n\u001b[1;32m    386\u001b[0m     \u001b[0;32mtry\u001b[0m\u001b[0;34m:\u001b[0m\u001b[0;34m\u001b[0m\u001b[0;34m\u001b[0m\u001b[0m\n\u001b[0;32m--> 387\u001b[0;31m         \u001b[0;32mreturn\u001b[0m \u001b[0m_load\u001b[0m\u001b[0;34m(\u001b[0m\u001b[0mf\u001b[0m\u001b[0;34m,\u001b[0m \u001b[0mmap_location\u001b[0m\u001b[0;34m,\u001b[0m \u001b[0mpickle_module\u001b[0m\u001b[0;34m,\u001b[0m \u001b[0;34m**\u001b[0m\u001b[0mpickle_load_args\u001b[0m\u001b[0;34m)\u001b[0m\u001b[0;34m\u001b[0m\u001b[0;34m\u001b[0m\u001b[0m\n\u001b[0m\u001b[1;32m    388\u001b[0m     \u001b[0;32mfinally\u001b[0m\u001b[0;34m:\u001b[0m\u001b[0;34m\u001b[0m\u001b[0;34m\u001b[0m\u001b[0m\n\u001b[1;32m    389\u001b[0m         \u001b[0;32mif\u001b[0m \u001b[0mnew_fd\u001b[0m\u001b[0;34m:\u001b[0m\u001b[0;34m\u001b[0m\u001b[0;34m\u001b[0m\u001b[0m\n",
      "\u001b[0;32m~/anaconda3/envs/mrcnn_b/lib/python3.6/site-packages/torch/serialization.py\u001b[0m in \u001b[0;36m_load\u001b[0;34m(f, map_location, pickle_module, **pickle_load_args)\u001b[0m\n\u001b[1;32m    572\u001b[0m     \u001b[0munpickler\u001b[0m \u001b[0;34m=\u001b[0m \u001b[0mpickle_module\u001b[0m\u001b[0;34m.\u001b[0m\u001b[0mUnpickler\u001b[0m\u001b[0;34m(\u001b[0m\u001b[0mf\u001b[0m\u001b[0;34m,\u001b[0m \u001b[0;34m**\u001b[0m\u001b[0mpickle_load_args\u001b[0m\u001b[0;34m)\u001b[0m\u001b[0;34m\u001b[0m\u001b[0;34m\u001b[0m\u001b[0m\n\u001b[1;32m    573\u001b[0m     \u001b[0munpickler\u001b[0m\u001b[0;34m.\u001b[0m\u001b[0mpersistent_load\u001b[0m \u001b[0;34m=\u001b[0m \u001b[0mpersistent_load\u001b[0m\u001b[0;34m\u001b[0m\u001b[0;34m\u001b[0m\u001b[0m\n\u001b[0;32m--> 574\u001b[0;31m     \u001b[0mresult\u001b[0m \u001b[0;34m=\u001b[0m \u001b[0munpickler\u001b[0m\u001b[0;34m.\u001b[0m\u001b[0mload\u001b[0m\u001b[0;34m(\u001b[0m\u001b[0;34m)\u001b[0m\u001b[0;34m\u001b[0m\u001b[0;34m\u001b[0m\u001b[0m\n\u001b[0m\u001b[1;32m    575\u001b[0m \u001b[0;34m\u001b[0m\u001b[0m\n\u001b[1;32m    576\u001b[0m     \u001b[0mdeserialized_storage_keys\u001b[0m \u001b[0;34m=\u001b[0m \u001b[0mpickle_module\u001b[0m\u001b[0;34m.\u001b[0m\u001b[0mload\u001b[0m\u001b[0;34m(\u001b[0m\u001b[0mf\u001b[0m\u001b[0;34m,\u001b[0m \u001b[0;34m**\u001b[0m\u001b[0mpickle_load_args\u001b[0m\u001b[0;34m)\u001b[0m\u001b[0;34m\u001b[0m\u001b[0;34m\u001b[0m\u001b[0m\n",
      "\u001b[0;32m~/git/nuclei_cell_detect/maskrcnn_benchmark/data/datasets/evaluation/__init__.py\u001b[0m in \u001b[0;36m<module>\u001b[0;34m\u001b[0m\n\u001b[1;32m      1\u001b[0m \u001b[0;32mfrom\u001b[0m \u001b[0mmaskrcnn_benchmark\u001b[0m\u001b[0;34m.\u001b[0m\u001b[0mdata\u001b[0m \u001b[0;32mimport\u001b[0m \u001b[0mdatasets\u001b[0m\u001b[0;34m\u001b[0m\u001b[0;34m\u001b[0m\u001b[0m\n\u001b[1;32m      2\u001b[0m \u001b[0;34m\u001b[0m\u001b[0m\n\u001b[0;32m----> 3\u001b[0;31m \u001b[0;32mfrom\u001b[0m \u001b[0;34m.\u001b[0m\u001b[0mcoco\u001b[0m \u001b[0;32mimport\u001b[0m \u001b[0mcoco_evaluation\u001b[0m\u001b[0;34m\u001b[0m\u001b[0;34m\u001b[0m\u001b[0m\n\u001b[0m\u001b[1;32m      4\u001b[0m \u001b[0;32mfrom\u001b[0m \u001b[0;34m.\u001b[0m\u001b[0mvoc\u001b[0m \u001b[0;32mimport\u001b[0m \u001b[0mvoc_evaluation\u001b[0m\u001b[0;34m\u001b[0m\u001b[0;34m\u001b[0m\u001b[0m\n\u001b[1;32m      5\u001b[0m \u001b[0;34m\u001b[0m\u001b[0m\n",
      "\u001b[0;32m~/git/nuclei_cell_detect/maskrcnn_benchmark/data/datasets/evaluation/coco/__init__.py\u001b[0m in \u001b[0;36m<module>\u001b[0;34m\u001b[0m\n\u001b[0;32m----> 1\u001b[0;31m \u001b[0;32mfrom\u001b[0m \u001b[0;34m.\u001b[0m\u001b[0mcoco_eval\u001b[0m \u001b[0;32mimport\u001b[0m \u001b[0mdo_coco_evaluation\u001b[0m\u001b[0;34m\u001b[0m\u001b[0;34m\u001b[0m\u001b[0m\n\u001b[0m\u001b[1;32m      2\u001b[0m \u001b[0;34m\u001b[0m\u001b[0m\n\u001b[1;32m      3\u001b[0m \u001b[0;34m\u001b[0m\u001b[0m\n\u001b[1;32m      4\u001b[0m def coco_evaluation(\n\u001b[1;32m      5\u001b[0m     \u001b[0mdataset\u001b[0m\u001b[0;34m,\u001b[0m\u001b[0;34m\u001b[0m\u001b[0;34m\u001b[0m\u001b[0m\n",
      "\u001b[0;32m~/git/nuclei_cell_detect/maskrcnn_benchmark/data/datasets/evaluation/coco/coco_eval.py\u001b[0m in \u001b[0;36m<module>\u001b[0;34m\u001b[0m\n\u001b[1;32m      8\u001b[0m \u001b[0;32mfrom\u001b[0m \u001b[0mmaskrcnn_benchmark\u001b[0m\u001b[0;34m.\u001b[0m\u001b[0mmodeling\u001b[0m\u001b[0;34m.\u001b[0m\u001b[0mroi_heads\u001b[0m\u001b[0;34m.\u001b[0m\u001b[0mmask_head\u001b[0m\u001b[0;34m.\u001b[0m\u001b[0minference\u001b[0m \u001b[0;32mimport\u001b[0m \u001b[0mMasker\u001b[0m\u001b[0;34m\u001b[0m\u001b[0;34m\u001b[0m\u001b[0m\n\u001b[1;32m      9\u001b[0m \u001b[0;32mfrom\u001b[0m \u001b[0mmaskrcnn_benchmark\u001b[0m\u001b[0;34m.\u001b[0m\u001b[0mstructures\u001b[0m\u001b[0;34m.\u001b[0m\u001b[0mbounding_box\u001b[0m \u001b[0;32mimport\u001b[0m \u001b[0mBoxList\u001b[0m\u001b[0;34m\u001b[0m\u001b[0;34m\u001b[0m\u001b[0m\n\u001b[0;32m---> 10\u001b[0;31m \u001b[0;32mfrom\u001b[0m \u001b[0mmaskrcnn_benchmark\u001b[0m\u001b[0;34m.\u001b[0m\u001b[0mstructures\u001b[0m\u001b[0;34m.\u001b[0m\u001b[0mboxlist_ops\u001b[0m \u001b[0;32mimport\u001b[0m \u001b[0mboxlist_iou\u001b[0m\u001b[0;34m\u001b[0m\u001b[0;34m\u001b[0m\u001b[0m\n\u001b[0m\u001b[1;32m     11\u001b[0m \u001b[0;34m\u001b[0m\u001b[0m\n\u001b[1;32m     12\u001b[0m \u001b[0;34m\u001b[0m\u001b[0m\n",
      "\u001b[0;32m~/git/nuclei_cell_detect/maskrcnn_benchmark/structures/boxlist_ops.py\u001b[0m in \u001b[0;36m<module>\u001b[0;34m\u001b[0m\n\u001b[1;32m      4\u001b[0m \u001b[0;32mfrom\u001b[0m \u001b[0;34m.\u001b[0m\u001b[0mbounding_box\u001b[0m \u001b[0;32mimport\u001b[0m \u001b[0mBoxList\u001b[0m\u001b[0;34m\u001b[0m\u001b[0;34m\u001b[0m\u001b[0m\n\u001b[1;32m      5\u001b[0m \u001b[0;34m\u001b[0m\u001b[0m\n\u001b[0;32m----> 6\u001b[0;31m \u001b[0;32mfrom\u001b[0m \u001b[0mmaskrcnn_benchmark\u001b[0m\u001b[0;34m.\u001b[0m\u001b[0mlayers\u001b[0m \u001b[0;32mimport\u001b[0m \u001b[0mnms\u001b[0m \u001b[0;32mas\u001b[0m \u001b[0m_box_nms\u001b[0m\u001b[0;34m\u001b[0m\u001b[0;34m\u001b[0m\u001b[0m\n\u001b[0m\u001b[1;32m      7\u001b[0m \u001b[0;34m\u001b[0m\u001b[0m\n\u001b[1;32m      8\u001b[0m \u001b[0;34m\u001b[0m\u001b[0m\n",
      "\u001b[0;32m~/git/nuclei_cell_detect/maskrcnn_benchmark/layers/__init__.py\u001b[0m in \u001b[0;36m<module>\u001b[0;34m\u001b[0m\n\u001b[1;32m      7\u001b[0m \u001b[0;32mfrom\u001b[0m \u001b[0;34m.\u001b[0m\u001b[0mmisc\u001b[0m \u001b[0;32mimport\u001b[0m \u001b[0mBatchNorm2d\u001b[0m\u001b[0;34m\u001b[0m\u001b[0;34m\u001b[0m\u001b[0m\n\u001b[1;32m      8\u001b[0m \u001b[0;32mfrom\u001b[0m \u001b[0;34m.\u001b[0m\u001b[0mmisc\u001b[0m \u001b[0;32mimport\u001b[0m \u001b[0minterpolate\u001b[0m\u001b[0;34m\u001b[0m\u001b[0;34m\u001b[0m\u001b[0m\n\u001b[0;32m----> 9\u001b[0;31m \u001b[0;32mfrom\u001b[0m \u001b[0;34m.\u001b[0m\u001b[0mnms\u001b[0m \u001b[0;32mimport\u001b[0m \u001b[0mnms\u001b[0m\u001b[0;34m\u001b[0m\u001b[0;34m\u001b[0m\u001b[0m\n\u001b[0m\u001b[1;32m     10\u001b[0m \u001b[0;32mfrom\u001b[0m \u001b[0;34m.\u001b[0m\u001b[0mroi_align\u001b[0m \u001b[0;32mimport\u001b[0m \u001b[0mROIAlign\u001b[0m\u001b[0;34m\u001b[0m\u001b[0;34m\u001b[0m\u001b[0m\n\u001b[1;32m     11\u001b[0m \u001b[0;32mfrom\u001b[0m \u001b[0;34m.\u001b[0m\u001b[0mroi_align\u001b[0m \u001b[0;32mimport\u001b[0m \u001b[0mroi_align\u001b[0m\u001b[0;34m\u001b[0m\u001b[0;34m\u001b[0m\u001b[0m\n",
      "\u001b[0;32m~/git/nuclei_cell_detect/maskrcnn_benchmark/layers/nms.py\u001b[0m in \u001b[0;36m<module>\u001b[0;34m\u001b[0m\n\u001b[1;32m      1\u001b[0m \u001b[0;31m# Copyright (c) Facebook, Inc. and its affiliates. All Rights Reserved.\u001b[0m\u001b[0;34m\u001b[0m\u001b[0;34m\u001b[0m\u001b[0;34m\u001b[0m\u001b[0m\n\u001b[1;32m      2\u001b[0m \u001b[0;31m# from ._utils import _C\u001b[0m\u001b[0;34m\u001b[0m\u001b[0;34m\u001b[0m\u001b[0;34m\u001b[0m\u001b[0m\n\u001b[0;32m----> 3\u001b[0;31m \u001b[0;32mfrom\u001b[0m \u001b[0mmaskrcnn_benchmark\u001b[0m \u001b[0;32mimport\u001b[0m \u001b[0m_C\u001b[0m\u001b[0;34m\u001b[0m\u001b[0;34m\u001b[0m\u001b[0m\n\u001b[0m\u001b[1;32m      4\u001b[0m \u001b[0;34m\u001b[0m\u001b[0m\n\u001b[1;32m      5\u001b[0m \u001b[0mnms\u001b[0m \u001b[0;34m=\u001b[0m \u001b[0m_C\u001b[0m\u001b[0;34m.\u001b[0m\u001b[0mnms\u001b[0m\u001b[0;34m\u001b[0m\u001b[0;34m\u001b[0m\u001b[0m\n",
      "\u001b[0;31mImportError\u001b[0m: libcudart.so.10.0: cannot open shared object file: No such file or directory"
     ]
    }
   ],
   "source": [
    "coco_predis = load_predictions(inference_folder + 'coco_results.pth')"
   ]
  },
  {
   "cell_type": "code",
   "execution_count": null,
   "metadata": {},
   "outputs": [],
   "source": []
  },
  {
   "cell_type": "code",
   "execution_count": null,
   "metadata": {},
   "outputs": [],
   "source": []
  }
 ],
 "metadata": {
  "kernelspec": {
   "display_name": "pytorch_maskrcnn",
   "language": "python",
   "name": "pt_mask_rcnn_env"
  },
  "language_info": {
   "codemirror_mode": {
    "name": "ipython",
    "version": 3
   },
   "file_extension": ".py",
   "mimetype": "text/x-python",
   "name": "python",
   "nbconvert_exporter": "python",
   "pygments_lexer": "ipython3",
   "version": "3.6.8"
  }
 },
 "nbformat": 4,
 "nbformat_minor": 2
}
