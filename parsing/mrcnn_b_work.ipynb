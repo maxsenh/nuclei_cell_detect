{
 "cells": [
  {
   "cell_type": "code",
   "execution_count": 1,
   "metadata": {},
   "outputs": [],
   "source": [
    "import json\n",
    "from pycocotools.coco import COCO\n",
    "import labelbox2pascal as lb2pa\n",
    "\n",
    "DATA = \"/data/proj/smFISH/Students/Max_Senftleben/files\"\n",
    "ROOT_DIR = \"/home/max/mrcnn_b_work\"\n"
   ]
  },
  {
   "cell_type": "code",
   "execution_count": 2,
   "metadata": {},
   "outputs": [],
   "source": [
    "def rewrite_ids_self_label(annotation_file):\n",
    "    anno_dir = json.load(open(annotation_file))\n",
    "    \n",
    "    for i in range(len(anno_dir['images'])):\n",
    "        one_element = anno_dir['images'][i]\n",
    "        \n",
    "        # get name of file\n",
    "        correct_name_for_id = one_element['file_name'][-15:-4]\n",
    "        # remove URL in filename\n",
    "        anno_dir['images'][i]['file_name'] = correct_name_for_id + '.jpg'\n",
    "        \n",
    "        # keep wrong ID to get data from 'annotations'\n",
    "        wrong_name_for_id = anno_dir['images'][i]['id']\n",
    "        \n",
    "        # change ID to correct with type int\n",
    "        anno_dir['images'][i]['id'] = int(correct_name_for_id[-6:])\n",
    "        \n",
    "        for i in range(len(anno_dir['annotations'])):\n",
    "            if anno_dir['annotations'][i]['image_id'] == wrong_name_for_id:\n",
    "                anno_dir['annotations'][i]['image_id'] = int(correct_name_for_id[-6:])\n",
    "                \n",
    "        #print(anno_dir['images'][i])\n",
    "        #image['id'] = name[-15:-4]\n",
    "        #print(file['id'])\n",
    "    with open(annotation_file[:-5] + '_id.json', \"w\") as wr:\n",
    "        json.dump(anno_dir, wr, separators=(',', ':'))\n",
    "        \n",
    "def rewrite_ids_nuclei(annotation_file):\n",
    "    anno_dir = json.load(open(annotation_file))\n",
    "    \n",
    "    for i in range(len(anno_dir['images'])):\n",
    "        one_element = anno_dir['images'][i]\n",
    "        \n",
    "        # get name of file\n",
    "        index_1 = one_element['file_name'].find('Nuclei')\n",
    "        index_2 = one_element['file_name'].find('.png')\n",
    "        correct_name_for_id = one_element['file_name'][index_1:index_2]\n",
    "        print(correct_name_for_id)\n",
    "        # remove URL in filename\n",
    "        anno_dir['images'][i]['file_name'] = correct_name_for_id + '.png'\n",
    "        \n",
    "        # keep wrong ID to get data from 'annotations'\n",
    "        wrong_name_for_id = anno_dir['images'][i]['id']\n",
    "        \n",
    "        # change ID to correct with type int\n",
    "        anno_dir['images'][i]['id'] = int(correct_name_for_id[19:])\n",
    "        \n",
    "        for i in range(len(anno_dir['annotations'])):\n",
    "            if anno_dir['annotations'][i]['image_id'] == wrong_name_for_id:\n",
    "                anno_dir['annotations'][i]['image_id'] = int(correct_name_for_id[19:])\n",
    "                \n",
    "\n",
    "    with open(annotation_file[:-5] + '_id.json', \"w\") as wr:\n",
    "        json.dump(anno_dir, wr, separators=(',', ':'))"
   ]
  },
  {
   "cell_type": "code",
   "execution_count": 3,
   "metadata": {},
   "outputs": [],
   "source": [
    "ANNO = DATA + \"/annotation\"\n",
    "\n",
    "#rewrite_ids_nuclei(ANNO + '/new_nuclei_mask/test_coco.json')\n",
    "\n",
    "#rewrite_ids_self_label(ANNO + '/lbx_test/val_coco.json')"
   ]
  },
  {
   "cell_type": "code",
   "execution_count": null,
   "metadata": {},
   "outputs": [],
   "source": []
  },
  {
   "cell_type": "code",
   "execution_count": 5,
   "metadata": {},
   "outputs": [
    {
     "ename": "FileNotFoundError",
     "evalue": "[Errno 2] No such file or directory: '/data/proj/smFISH/Students/Max_Senftleben/files/annotation/new_nuclei/train_coco.json'",
     "output_type": "error",
     "traceback": [
      "\u001b[0;31m---------------------------------------------------------------------------\u001b[0m",
      "\u001b[0;31mFileNotFoundError\u001b[0m                         Traceback (most recent call last)",
      "\u001b[0;32m<ipython-input-5-9a9237c645fc>\u001b[0m in \u001b[0;36m<module>\u001b[0;34m\u001b[0m\n\u001b[1;32m     11\u001b[0m \u001b[0;34m\u001b[0m\u001b[0m\n\u001b[1;32m     12\u001b[0m \u001b[0;31m# Annotation after rewriting IDs for nuclei\u001b[0m\u001b[0;34m\u001b[0m\u001b[0;34m\u001b[0m\u001b[0;34m\u001b[0m\u001b[0m\n\u001b[0;32m---> 13\u001b[0;31m \u001b[0mnormal_nuclei_anno\u001b[0m \u001b[0;34m=\u001b[0m \u001b[0mjson\u001b[0m\u001b[0;34m.\u001b[0m\u001b[0mload\u001b[0m\u001b[0;34m(\u001b[0m\u001b[0mopen\u001b[0m\u001b[0;34m(\u001b[0m\u001b[0mDATA\u001b[0m \u001b[0;34m+\u001b[0m \u001b[0;34m'/annotation/new_nuclei/train_coco.json'\u001b[0m\u001b[0;34m)\u001b[0m\u001b[0;34m)\u001b[0m\u001b[0;34m\u001b[0m\u001b[0;34m\u001b[0m\u001b[0m\n\u001b[0m\u001b[1;32m     14\u001b[0m \u001b[0mnuclei_anno\u001b[0m \u001b[0;34m=\u001b[0m \u001b[0mjson\u001b[0m\u001b[0;34m.\u001b[0m\u001b[0mload\u001b[0m\u001b[0;34m(\u001b[0m\u001b[0mopen\u001b[0m\u001b[0;34m(\u001b[0m\u001b[0mDATA\u001b[0m \u001b[0;34m+\u001b[0m \u001b[0;34m'/annotation/new_nuclei/train_coco_id.json'\u001b[0m\u001b[0;34m)\u001b[0m\u001b[0;34m)\u001b[0m\u001b[0;34m\u001b[0m\u001b[0;34m\u001b[0m\u001b[0m\n\u001b[1;32m     15\u001b[0m \u001b[0;34m\u001b[0m\u001b[0m\n",
      "\u001b[0;31mFileNotFoundError\u001b[0m: [Errno 2] No such file or directory: '/data/proj/smFISH/Students/Max_Senftleben/files/annotation/new_nuclei/train_coco.json'"
     ]
    }
   ],
   "source": [
    "# Original COCO format \n",
    "#coco_anno = json.load(open(DATA + '/annotation/anno_coco/instances_val2014.json'))\n",
    "\n",
    "# Annotation after conversion from labelbox\n",
    "#train_anno = json.load(open(DATA + \"/annotation/lbx_test/train_coco.json\"))\n",
    "\n",
    "# Annotation after rewriting the IDs\n",
    "#train_anno = json.load(open(DATA + \"/annotation/lbx_test/train_coco_id.json\"))\n",
    "#print(train_anno['images'][0])\n",
    "#print(train_anno['annotations'][0])\n",
    "\n",
    "# Annotation after rewriting IDs for nuclei\n",
    "normal_nuclei_anno = json.load(open(DATA + '/annotation/new_nuclei/train_coco.json'))\n",
    "nuclei_anno = json.load(open(DATA + '/annotation/new_nuclei/train_coco_id.json'))\n",
    "\n",
    "print(normal_nuclei_anno['images'][0])\n",
    "print(normal_nuclei_anno['images'][0])\n",
    "print(nuclei_anno['images'][0])\n",
    "print(nuclei_anno['annotations'][0])"
   ]
  },
  {
   "cell_type": "code",
   "execution_count": null,
   "metadata": {},
   "outputs": [],
   "source": []
  },
  {
   "cell_type": "code",
   "execution_count": null,
   "metadata": {},
   "outputs": [],
   "source": []
  },
  {
   "cell_type": "code",
   "execution_count": null,
   "metadata": {},
   "outputs": [],
   "source": []
  },
  {
   "cell_type": "code",
   "execution_count": null,
   "metadata": {},
   "outputs": [],
   "source": []
  }
 ],
 "metadata": {
  "kernelspec": {
   "display_name": "deep_learning",
   "language": "python",
   "name": "mrcnn_b"
  },
  "language_info": {
   "codemirror_mode": {
    "name": "ipython",
    "version": 3
   },
   "file_extension": ".py",
   "mimetype": "text/x-python",
   "name": "python",
   "nbconvert_exporter": "python",
   "pygments_lexer": "ipython3",
   "version": "3.6.8"
  }
 },
 "nbformat": 4,
 "nbformat_minor": 2
}
